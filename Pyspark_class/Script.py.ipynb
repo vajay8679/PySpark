{
 "cells": [
  {
   "cell_type": "code",
   "execution_count": 1,
   "metadata": {},
   "outputs": [
    {
     "name": "stdout",
     "output_type": "stream",
     "text": [
      "Requirement already satisfied: pandas in /home/zec/.local/lib/python3.8/site-packages (2.0.3)\n",
      "Collecting faker\n",
      "  Downloading Faker-28.4.1-py3-none-any.whl (1.8 MB)\n",
      "\u001b[K     |████████████████████████████████| 1.8 MB 2.3 MB/s eta 0:00:01\n",
      "\u001b[?25hRequirement already satisfied: numpy>=1.20.3; python_version < \"3.10\" in /home/zec/.local/lib/python3.8/site-packages (from pandas) (1.24.4)\n",
      "Requirement already satisfied: python-dateutil>=2.8.2 in /home/zec/.local/lib/python3.8/site-packages (from pandas) (2.9.0.post0)\n",
      "Requirement already satisfied: pytz>=2020.1 in /home/zec/.local/lib/python3.8/site-packages (from pandas) (2023.3.post1)\n",
      "Requirement already satisfied: tzdata>=2022.1 in /home/zec/.local/lib/python3.8/site-packages (from pandas) (2024.1)\n",
      "Requirement already satisfied: six>=1.5 in /usr/lib/python3/dist-packages (from python-dateutil>=2.8.2->pandas) (1.14.0)\n",
      "Installing collected packages: faker\n",
      "Successfully installed faker-28.4.1\n",
      "Note: you may need to restart the kernel to use updated packages.\n"
     ]
    }
   ],
   "source": [
    "pip install pandas faker\n"
   ]
  },
  {
   "cell_type": "code",
   "execution_count": 1,
   "metadata": {},
   "outputs": [
    {
     "name": "stdout",
     "output_type": "stream",
     "text": [
      "Dataset of size approximately 1GB created: employee_dataset.csv\n"
     ]
    }
   ],
   "source": [
    "import pandas as pd\n",
    "import numpy as np\n",
    "from faker import Faker\n",
    "import random\n",
    "\n",
    "# Initialize Faker and set a random seed for reproducibility\n",
    "fake = Faker()\n",
    "np.random.seed(42)\n",
    "\n",
    "# Define the size of the dataset (around 1GB)\n",
    "# Approximate rows needed (depending on the structure): around 10 million rows\n",
    "num_rows = 10_000_000\n",
    "\n",
    "# Define random data generation functions\n",
    "def generate_employee_id(n):\n",
    "    return np.arange(1, n+1)\n",
    "\n",
    "def generate_name(n):\n",
    "    return [fake.name() for _ in range(n)]\n",
    "\n",
    "def generate_age(n):\n",
    "    return np.random.randint(18, 65, size=n)\n",
    "\n",
    "def generate_department(n):\n",
    "    departments = ['HR', 'IT', 'Sales', 'Marketing', 'Finance', 'Operations', 'Support']\n",
    "    return np.random.choice(departments, size=n)\n",
    "\n",
    "def generate_joining_date(n):\n",
    "    return [fake.date_between(start_date='-10y', end_date='today') for _ in range(n)]\n",
    "\n",
    "def generate_salary(n):\n",
    "    return np.random.randint(30_000, 150_000, size=n)\n",
    "\n",
    "def generate_city(n):\n",
    "    cities = ['New York', 'Los Angeles', 'Chicago', 'Houston', 'Phoenix', 'Philadelphia', 'San Antonio', 'Dallas']\n",
    "    return np.random.choice(cities, size=n)\n",
    "\n",
    "# Generate the data\n",
    "employee_data = {\n",
    "    'EmployeeID': generate_employee_id(num_rows),\n",
    "    'Name': generate_name(num_rows),\n",
    "    'Age': generate_age(num_rows),\n",
    "    'Department': generate_department(num_rows),\n",
    "    'JoiningDate': generate_joining_date(num_rows),\n",
    "    'Salary': generate_salary(num_rows),\n",
    "    'City': generate_city(num_rows)\n",
    "}\n",
    "\n",
    "# Create a DataFrame\n",
    "df = pd.DataFrame(employee_data)\n",
    "\n",
    "# Save the DataFrame to a CSV file\n",
    "output_file = 'employee_dataset.csv'\n",
    "df.to_csv(output_file, index=False)\n",
    "\n",
    "print(f\"Dataset of size approximately 1GB created: {output_file}\")\n"
   ]
  },
  {
   "cell_type": "code",
   "execution_count": null,
   "metadata": {},
   "outputs": [],
   "source": []
  }
 ],
 "metadata": {
  "kernelspec": {
   "display_name": "Python 3",
   "language": "python",
   "name": "python3"
  },
  "language_info": {
   "codemirror_mode": {
    "name": "ipython",
    "version": 3
   },
   "file_extension": ".py",
   "mimetype": "text/x-python",
   "name": "python",
   "nbconvert_exporter": "python",
   "pygments_lexer": "ipython3",
   "version": "3.8.10"
  }
 },
 "nbformat": 4,
 "nbformat_minor": 4
}
