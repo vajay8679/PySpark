{
 "cells": [
  {
   "cell_type": "code",
   "execution_count": 0,
   "metadata": {
    "application/vnd.databricks.v1+cell": {
     "cellMetadata": {
      "byteLimit": 2048000,
      "rowLimit": 10000
     },
     "inputWidgets": {},
     "nuid": "104ccd81-0d5c-4b6d-b985-b17ba07d3a5f",
     "showTitle": false,
     "tableResultSettingsMap": {},
     "title": ""
    }
   },
   "outputs": [
    {
     "output_type": "stream",
     "name": "stdout",
     "output_type": "stream",
     "text": [
      "+---+----------+--------+---------+----------+-----------+\n|_c0|       _c1|     _c2|      _c3|       _c4|        _c5|\n+---+----------+--------+---------+----------+-----------+\n| id|      name|     age|   salary|   address|     gender|\n|  1|    Manish|      26|    75000|     INDIA|          m|\n|  2|    Nikita|      23|   100000|       USA|          f|\n|  3|    Pritam|      22|   150000|     INDIA|          m|\n|  4|  Prantosh|      17|   200000|     JAPAN|          m|\n|  5|    Vikash|      31|   300000|       USA|          m|\n|  6|     Rahul|      55|   300000|     INDIA|          m|\n|  7|      Raju|      67|   540000|       USA|          m|\n|  8|   Praveen|      28|    70000|     JAPAN|          m|\n|  9|       Dev|      32|   150000|     JAPAN|          m|\n| 10|    Sherin|      16|    25000|    RUSSIA|          f|\n| 11|      Ragu|      12|    35000|     INDIA|          f|\n| 12|     Sweta|      43|   200000|     INDIA|          f|\n| 13|   Raushan|      48|   650000|       USA|          m|\n| 14|    Mukesh|      36|    95000|    RUSSIA|          m|\n| 15|   Prakash|      52|   750000|     INDIA|          m|\n+---+----------+--------+---------+----------+-----------+\n\n"
     ]
    }
   ],
   "source": [
    "df = spark.read.csv('/FileStore/tables/employee_write_data.csv')\n",
    "df.show()"
   ]
  },
  {
   "cell_type": "code",
   "execution_count": 0,
   "metadata": {
    "application/vnd.databricks.v1+cell": {
     "cellMetadata": {
      "byteLimit": 2048000,
      "rowLimit": 10000
     },
     "inputWidgets": {},
     "nuid": "624b7d2d-88a7-44c3-aa5d-33136034482f",
     "showTitle": false,
     "tableResultSettingsMap": {},
     "title": ""
    }
   },
   "outputs": [],
   "source": [
    "df.write.format(\"csv\")\\\n",
    "    .option(\"header\",True)\\\n",
    "    .option(\"mode\",\"overwrite\")\\\n",
    "    .option('path','/FileStore/tables/csv_write')\\\n",
    "    .save()"
   ]
  },
  {
   "cell_type": "code",
   "execution_count": 0,
   "metadata": {
    "application/vnd.databricks.v1+cell": {
     "cellMetadata": {
      "byteLimit": 2048000,
      "rowLimit": 10000
     },
     "inputWidgets": {},
     "nuid": "79914621-88c6-4309-838d-a8e4ac3f8000",
     "showTitle": false,
     "tableResultSettingsMap": {},
     "title": ""
    }
   },
   "outputs": [
    {
     "output_type": "stream",
     "name": "stdout",
     "output_type": "stream",
     "text": [
      "Out[7]: [FileInfo(path='dbfs:/FileStore/tables/csv_write/_SUCCESS', name='_SUCCESS', size=0, modificationTime=1729361934000),\n FileInfo(path='dbfs:/FileStore/tables/csv_write/_committed_1601656659629355465', name='_committed_1601656659629355465', size=111, modificationTime=1729361933000),\n FileInfo(path='dbfs:/FileStore/tables/csv_write/_started_1601656659629355465', name='_started_1601656659629355465', size=0, modificationTime=1729361933000),\n FileInfo(path='dbfs:/FileStore/tables/csv_write/part-00000-tid-1601656659629355465-b9406e95-ba70-476a-b492-2fee5a9c48d1-3-1-c000.csv', name='part-00000-tid-1601656659629355465-b9406e95-ba70-476a-b492-2fee5a9c48d1-3-1-c000.csv', size=454, modificationTime=1729361933000)]"
     ]
    }
   ],
   "source": [
    "dbutils.fs.ls('/FileStore/tables/csv_write')"
   ]
  },
  {
   "cell_type": "code",
   "execution_count": 0,
   "metadata": {
    "application/vnd.databricks.v1+cell": {
     "cellMetadata": {
      "byteLimit": 2048000,
      "rowLimit": 10000
     },
     "inputWidgets": {},
     "nuid": "975fe1e7-8327-4f59-8f33-7a9d0274c6a4",
     "showTitle": false,
     "tableResultSettingsMap": {},
     "title": ""
    }
   },
   "outputs": [],
   "source": [
    "#repartition\n",
    "df.repartition(3).write.format(\"csv\")\\\n",
    "    .option(\"header\",True)\\\n",
    "    .option(\"mode\",\"overwrite\")\\\n",
    "    .option('path','/FileStore/tables/csv_write_repartition')\\\n",
    "    .save()"
   ]
  },
  {
   "cell_type": "code",
   "execution_count": 0,
   "metadata": {
    "application/vnd.databricks.v1+cell": {
     "cellMetadata": {
      "byteLimit": 2048000,
      "rowLimit": 10000
     },
     "inputWidgets": {},
     "nuid": "f404b092-a6e0-45d4-9ae7-2c99919375e2",
     "showTitle": false,
     "tableResultSettingsMap": {},
     "title": ""
    }
   },
   "outputs": [
    {
     "output_type": "stream",
     "name": "stdout",
     "output_type": "stream",
     "text": [
      "Out[9]: [FileInfo(path='dbfs:/FileStore/tables/csv_write_repartition/_SUCCESS', name='_SUCCESS', size=0, modificationTime=1729362052000),\n FileInfo(path='dbfs:/FileStore/tables/csv_write_repartition/_committed_1853676463337163042', name='_committed_1853676463337163042', size=285, modificationTime=1729362052000),\n FileInfo(path='dbfs:/FileStore/tables/csv_write_repartition/_started_1853676463337163042', name='_started_1853676463337163042', size=0, modificationTime=1729362051000),\n FileInfo(path='dbfs:/FileStore/tables/csv_write_repartition/part-00000-tid-1853676463337163042-5bc4a6b6-5543-4fd1-9f33-b495a3c29a5b-5-1-c000.csv', name='part-00000-tid-1853676463337163042-5bc4a6b6-5543-4fd1-9f33-b495a3c29a5b-5-1-c000.csv', size=189, modificationTime=1729362051000),\n FileInfo(path='dbfs:/FileStore/tables/csv_write_repartition/part-00001-tid-1853676463337163042-5bc4a6b6-5543-4fd1-9f33-b495a3c29a5b-6-1-c000.csv', name='part-00001-tid-1853676463337163042-5bc4a6b6-5543-4fd1-9f33-b495a3c29a5b-6-1-c000.csv', size=152, modificationTime=1729362052000),\n FileInfo(path='dbfs:/FileStore/tables/csv_write_repartition/part-00002-tid-1853676463337163042-5bc4a6b6-5543-4fd1-9f33-b495a3c29a5b-7-1-c000.csv', name='part-00002-tid-1853676463337163042-5bc4a6b6-5543-4fd1-9f33-b495a3c29a5b-7-1-c000.csv', size=161, modificationTime=1729362051000)]"
     ]
    }
   ],
   "source": [
    "dbutils.fs.ls('/FileStore/tables/csv_write_repartition')"
   ]
  },
  {
   "cell_type": "code",
   "execution_count": 0,
   "metadata": {
    "application/vnd.databricks.v1+cell": {
     "cellMetadata": {
      "byteLimit": 2048000,
      "rowLimit": 10000
     },
     "inputWidgets": {},
     "nuid": "7cb45e9e-1355-42d8-8456-23a04f88ee02",
     "showTitle": false,
     "tableResultSettingsMap": {},
     "title": ""
    }
   },
   "outputs": [
    {
     "output_type": "stream",
     "name": "stdout",
     "output_type": "stream",
     "text": [
      "+---+--------+---+------+-------+------+\n| id|    name|age|salary|address|gender|\n+---+--------+---+------+-------+------+\n|  1|  Manish| 26| 75000|  INDIA|     m|\n|  2|  Nikita| 23|100000|    USA|     f|\n|  3|  Pritam| 22|150000|  INDIA|     m|\n|  4|Prantosh| 17|200000|  JAPAN|     m|\n|  5|  Vikash| 31|300000|    USA|     m|\n|  6|   Rahul| 55|300000|  INDIA|     m|\n|  7|    Raju| 67|540000|    USA|     m|\n|  8| Praveen| 28| 70000|  JAPAN|     m|\n|  9|     Dev| 32|150000|  JAPAN|     m|\n| 10|  Sherin| 16| 25000| RUSSIA|     f|\n| 11|    Ragu| 12| 35000|  INDIA|     f|\n| 12|   Sweta| 43|200000|  INDIA|     f|\n| 13| Raushan| 48|650000|    USA|     m|\n| 14|  Mukesh| 36| 95000| RUSSIA|     m|\n| 15| Prakash| 52|750000|  INDIA|     m|\n+---+--------+---+------+-------+------+\n\n"
     ]
    }
   ],
   "source": [
    "df = spark.read.csv('/FileStore/tables/employee_write_data1.csv',header=True)\n",
    "# df.printSchema()\n",
    "df.show()"
   ]
  },
  {
   "cell_type": "markdown",
   "metadata": {
    "application/vnd.databricks.v1+cell": {
     "cellMetadata": {},
     "inputWidgets": {},
     "nuid": "8cc1ddcb-e9c9-4fc6-b075-3b70a4af00d0",
     "showTitle": false,
     "tableResultSettingsMap": {},
     "title": ""
    }
   },
   "source": [
    "# Parition By"
   ]
  },
  {
   "cell_type": "code",
   "execution_count": 0,
   "metadata": {
    "application/vnd.databricks.v1+cell": {
     "cellMetadata": {
      "byteLimit": 2048000,
      "rowLimit": 10000
     },
     "inputWidgets": {},
     "nuid": "d9fea7de-9c26-4824-9f3b-e92c7317a04e",
     "showTitle": false,
     "tableResultSettingsMap": {},
     "title": ""
    }
   },
   "outputs": [],
   "source": [
    "#partitionBy\n",
    "df.write.format(\"csv\")\\\n",
    "    .option(\"header\", True)\\\n",
    "    .option(\"mode\", \"overwrite\")\\\n",
    "    .option('path', '/FileStore/tables/partition_by_address')\\\n",
    "    .partitionBy(\"address\")\\\n",
    "    .save()\n"
   ]
  },
  {
   "cell_type": "code",
   "execution_count": 0,
   "metadata": {
    "application/vnd.databricks.v1+cell": {
     "cellMetadata": {
      "byteLimit": 2048000,
      "rowLimit": 10000
     },
     "inputWidgets": {},
     "nuid": "88811e0b-ef9d-4872-8541-06e2faa3518e",
     "showTitle": false,
     "tableResultSettingsMap": {},
     "title": ""
    }
   },
   "outputs": [
    {
     "output_type": "stream",
     "name": "stdout",
     "output_type": "stream",
     "text": [
      "Out[24]: [FileInfo(path='dbfs:/FileStore/tables/partition_by_address/_SUCCESS', name='_SUCCESS', size=0, modificationTime=1729363914000),\n FileInfo(path='dbfs:/FileStore/tables/partition_by_address/address=INDIA/', name='address=INDIA/', size=0, modificationTime=0),\n FileInfo(path='dbfs:/FileStore/tables/partition_by_address/address=JAPAN/', name='address=JAPAN/', size=0, modificationTime=0),\n FileInfo(path='dbfs:/FileStore/tables/partition_by_address/address=RUSSIA/', name='address=RUSSIA/', size=0, modificationTime=0),\n FileInfo(path='dbfs:/FileStore/tables/partition_by_address/address=USA/', name='address=USA/', size=0, modificationTime=0)]"
     ]
    }
   ],
   "source": [
    "dbutils.fs.ls('/FileStore/tables/partition_by_address')"
   ]
  },
  {
   "cell_type": "code",
   "execution_count": 0,
   "metadata": {
    "application/vnd.databricks.v1+cell": {
     "cellMetadata": {
      "byteLimit": 2048000,
      "rowLimit": 10000
     },
     "inputWidgets": {},
     "nuid": "be946131-0698-4692-920a-bdd517ba779f",
     "showTitle": false,
     "tableResultSettingsMap": {},
     "title": ""
    }
   },
   "outputs": [],
   "source": [
    "df.write.format(\"csv\")\\\n",
    "    .option(\"header\", True)\\\n",
    "    .option(\"mode\", \"overwrite\")\\\n",
    "    .option('path', '/FileStore/tables/partition_by_id')\\\n",
    "    .partitionBy(\"id\")\\\n",
    "    .save()"
   ]
  },
  {
   "cell_type": "code",
   "execution_count": 0,
   "metadata": {
    "application/vnd.databricks.v1+cell": {
     "cellMetadata": {
      "byteLimit": 2048000,
      "rowLimit": 10000
     },
     "inputWidgets": {},
     "nuid": "2839ed38-77f3-43d6-98ff-da2e7cc01f00",
     "showTitle": false,
     "tableResultSettingsMap": {},
     "title": ""
    }
   },
   "outputs": [
    {
     "output_type": "stream",
     "name": "stdout",
     "output_type": "stream",
     "text": [
      "Out[27]: [FileInfo(path='dbfs:/FileStore/tables/partition_by_id/_SUCCESS', name='_SUCCESS', size=0, modificationTime=1729364099000),\n FileInfo(path='dbfs:/FileStore/tables/partition_by_id/id=1/', name='id=1/', size=0, modificationTime=0),\n FileInfo(path='dbfs:/FileStore/tables/partition_by_id/id=10/', name='id=10/', size=0, modificationTime=0),\n FileInfo(path='dbfs:/FileStore/tables/partition_by_id/id=11/', name='id=11/', size=0, modificationTime=0),\n FileInfo(path='dbfs:/FileStore/tables/partition_by_id/id=12/', name='id=12/', size=0, modificationTime=0),\n FileInfo(path='dbfs:/FileStore/tables/partition_by_id/id=13/', name='id=13/', size=0, modificationTime=0),\n FileInfo(path='dbfs:/FileStore/tables/partition_by_id/id=14/', name='id=14/', size=0, modificationTime=0),\n FileInfo(path='dbfs:/FileStore/tables/partition_by_id/id=15/', name='id=15/', size=0, modificationTime=0),\n FileInfo(path='dbfs:/FileStore/tables/partition_by_id/id=2/', name='id=2/', size=0, modificationTime=0),\n FileInfo(path='dbfs:/FileStore/tables/partition_by_id/id=3/', name='id=3/', size=0, modificationTime=0),\n FileInfo(path='dbfs:/FileStore/tables/partition_by_id/id=4/', name='id=4/', size=0, modificationTime=0),\n FileInfo(path='dbfs:/FileStore/tables/partition_by_id/id=5/', name='id=5/', size=0, modificationTime=0),\n FileInfo(path='dbfs:/FileStore/tables/partition_by_id/id=6/', name='id=6/', size=0, modificationTime=0),\n FileInfo(path='dbfs:/FileStore/tables/partition_by_id/id=7/', name='id=7/', size=0, modificationTime=0),\n FileInfo(path='dbfs:/FileStore/tables/partition_by_id/id=8/', name='id=8/', size=0, modificationTime=0),\n FileInfo(path='dbfs:/FileStore/tables/partition_by_id/id=9/', name='id=9/', size=0, modificationTime=0)]"
     ]
    }
   ],
   "source": [
    "dbutils.fs.ls('/FileStore/tables/partition_by_id')"
   ]
  },
  {
   "cell_type": "code",
   "execution_count": 0,
   "metadata": {
    "application/vnd.databricks.v1+cell": {
     "cellMetadata": {
      "byteLimit": 2048000,
      "rowLimit": 10000
     },
     "inputWidgets": {},
     "nuid": "790d0b1a-2c9b-428e-910d-6a18502feded",
     "showTitle": false,
     "tableResultSettingsMap": {},
     "title": ""
    }
   },
   "outputs": [],
   "source": [
    "df.write.format(\"csv\")\\\n",
    "    .option(\"header\", True)\\\n",
    "    .option(\"mode\", \"overwrite\")\\\n",
    "    .option('path', '/FileStore/tables/partition_by_address_gender')\\\n",
    "    .partitionBy(\"address\",\"gender\")\\\n",
    "    .save()"
   ]
  },
  {
   "cell_type": "code",
   "execution_count": 0,
   "metadata": {
    "application/vnd.databricks.v1+cell": {
     "cellMetadata": {
      "byteLimit": 2048000,
      "rowLimit": 10000
     },
     "inputWidgets": {},
     "nuid": "b15bd685-bfaa-4081-abf5-3eac3214e8e4",
     "showTitle": false,
     "tableResultSettingsMap": {},
     "title": ""
    }
   },
   "outputs": [
    {
     "output_type": "stream",
     "name": "stdout",
     "output_type": "stream",
     "text": [
      "Out[29]: [FileInfo(path='dbfs:/FileStore/tables/partition_by_address_gender/_SUCCESS', name='_SUCCESS', size=0, modificationTime=1729364247000),\n FileInfo(path='dbfs:/FileStore/tables/partition_by_address_gender/address=INDIA/', name='address=INDIA/', size=0, modificationTime=0),\n FileInfo(path='dbfs:/FileStore/tables/partition_by_address_gender/address=JAPAN/', name='address=JAPAN/', size=0, modificationTime=0),\n FileInfo(path='dbfs:/FileStore/tables/partition_by_address_gender/address=RUSSIA/', name='address=RUSSIA/', size=0, modificationTime=0),\n FileInfo(path='dbfs:/FileStore/tables/partition_by_address_gender/address=USA/', name='address=USA/', size=0, modificationTime=0)]"
     ]
    }
   ],
   "source": [
    "dbutils.fs.ls('/FileStore/tables/partition_by_address_gender')"
   ]
  },
  {
   "cell_type": "code",
   "execution_count": 0,
   "metadata": {
    "application/vnd.databricks.v1+cell": {
     "cellMetadata": {
      "byteLimit": 2048000,
      "rowLimit": 10000
     },
     "inputWidgets": {},
     "nuid": "bb998aff-86f4-4056-ba43-3a1a672f9daf",
     "showTitle": false,
     "tableResultSettingsMap": {},
     "title": ""
    }
   },
   "outputs": [
    {
     "output_type": "stream",
     "name": "stdout",
     "output_type": "stream",
     "text": [
      "Out[30]: [FileInfo(path='dbfs:/FileStore/tables/partition_by_address_gender/address=INDIA/gender=f/', name='gender=f/', size=0, modificationTime=0),\n FileInfo(path='dbfs:/FileStore/tables/partition_by_address_gender/address=INDIA/gender=m/', name='gender=m/', size=0, modificationTime=0)]"
     ]
    }
   ],
   "source": [
    "dbutils.fs.ls('dbfs:/FileStore/tables/partition_by_address_gender/address=INDIA/')"
   ]
  },
  {
   "cell_type": "code",
   "execution_count": 0,
   "metadata": {
    "application/vnd.databricks.v1+cell": {
     "cellMetadata": {
      "byteLimit": 2048000,
      "rowLimit": 10000
     },
     "inputWidgets": {},
     "nuid": "cc9816dc-4bb6-4a2c-827d-6d1560c64317",
     "showTitle": false,
     "tableResultSettingsMap": {},
     "title": ""
    }
   },
   "outputs": [],
   "source": [
    "df.write.format(\"csv\")\\\n",
    "    .option(\"header\", True)\\\n",
    "    .option(\"mode\", \"overwrite\")\\\n",
    "    .option('path', '/FileStore/tables/partition_by_gender_address')\\\n",
    "    .partitionBy(\"gender\",\"address\")\\\n",
    "    .save()"
   ]
  },
  {
   "cell_type": "code",
   "execution_count": 0,
   "metadata": {
    "application/vnd.databricks.v1+cell": {
     "cellMetadata": {
      "byteLimit": 2048000,
      "rowLimit": 10000
     },
     "inputWidgets": {},
     "nuid": "dd7416de-15bd-4699-959a-2f838230b2b0",
     "showTitle": false,
     "tableResultSettingsMap": {},
     "title": ""
    }
   },
   "outputs": [
    {
     "output_type": "stream",
     "name": "stdout",
     "output_type": "stream",
     "text": [
      "Out[32]: [FileInfo(path='dbfs:/FileStore/tables/partition_by_gender_address/_SUCCESS', name='_SUCCESS', size=0, modificationTime=1729364436000),\n FileInfo(path='dbfs:/FileStore/tables/partition_by_gender_address/gender=f/', name='gender=f/', size=0, modificationTime=0),\n FileInfo(path='dbfs:/FileStore/tables/partition_by_gender_address/gender=m/', name='gender=m/', size=0, modificationTime=0)]"
     ]
    }
   ],
   "source": [
    "dbutils.fs.ls('/FileStore/tables/partition_by_gender_address')"
   ]
  },
  {
   "cell_type": "code",
   "execution_count": 0,
   "metadata": {
    "application/vnd.databricks.v1+cell": {
     "cellMetadata": {
      "byteLimit": 2048000,
      "rowLimit": 10000
     },
     "inputWidgets": {},
     "nuid": "a20a2e2d-652f-4ca5-aa05-28cbdb5d7c35",
     "showTitle": false,
     "tableResultSettingsMap": {},
     "title": ""
    }
   },
   "outputs": [
    {
     "output_type": "stream",
     "name": "stdout",
     "output_type": "stream",
     "text": [
      "Out[33]: [FileInfo(path='dbfs:/FileStore/tables/partition_by_gender_address/gender=f/address=INDIA/', name='address=INDIA/', size=0, modificationTime=0),\n FileInfo(path='dbfs:/FileStore/tables/partition_by_gender_address/gender=f/address=RUSSIA/', name='address=RUSSIA/', size=0, modificationTime=0),\n FileInfo(path='dbfs:/FileStore/tables/partition_by_gender_address/gender=f/address=USA/', name='address=USA/', size=0, modificationTime=0)]"
     ]
    }
   ],
   "source": [
    "dbutils.fs.ls('dbfs:/FileStore/tables/partition_by_gender_address/gender=f/')"
   ]
  },
  {
   "cell_type": "markdown",
   "metadata": {
    "application/vnd.databricks.v1+cell": {
     "cellMetadata": {},
     "inputWidgets": {},
     "nuid": "2801b084-7684-44b6-97ab-4ab7e7f1ee26",
     "showTitle": false,
     "tableResultSettingsMap": {},
     "title": ""
    }
   },
   "source": [
    "# Bucket By"
   ]
  },
  {
   "cell_type": "code",
   "execution_count": 0,
   "metadata": {
    "application/vnd.databricks.v1+cell": {
     "cellMetadata": {
      "byteLimit": 2048000,
      "rowLimit": 10000
     },
     "inputWidgets": {},
     "nuid": "75a8d397-8616-4c04-841f-0f100fb74518",
     "showTitle": false,
     "tableResultSettingsMap": {},
     "title": ""
    }
   },
   "outputs": [],
   "source": [
    "#bucketBy -  we have 15 records so we gave 3 no. of partitions\n",
    "df.write.format(\"csv\")\\\n",
    "    .option(\"header\", True)\\\n",
    "    .option(\"mode\", \"overwrite\")\\\n",
    "    .option('path', '/FileStore/tables/bucket_by_id')\\\n",
    "    .bucketBy(3,\"id\")\\\n",
    "    .saveAsTable(\"bucket_by_id_table\") "
   ]
  },
  {
   "cell_type": "code",
   "execution_count": 0,
   "metadata": {
    "application/vnd.databricks.v1+cell": {
     "cellMetadata": {
      "byteLimit": 2048000,
      "rowLimit": 10000
     },
     "inputWidgets": {},
     "nuid": "35e7965a-4402-44c6-8d16-cfe6818d2ec4",
     "showTitle": false,
     "tableResultSettingsMap": {},
     "title": ""
    }
   },
   "outputs": [
    {
     "output_type": "stream",
     "name": "stdout",
     "output_type": "stream",
     "text": [
      "Out[38]: [FileInfo(path='dbfs:/FileStore/tables/bucket_by_id/_SUCCESS', name='_SUCCESS', size=0, modificationTime=1729364861000),\n FileInfo(path='dbfs:/FileStore/tables/bucket_by_id/_committed_1702600991145306701', name='_committed_1702600991145306701', size=306, modificationTime=1729364861000),\n FileInfo(path='dbfs:/FileStore/tables/bucket_by_id/_started_1702600991145306701', name='_started_1702600991145306701', size=0, modificationTime=1729364860000),\n FileInfo(path='dbfs:/FileStore/tables/bucket_by_id/part-00000-tid-1702600991145306701-690ad92f-f327-4fad-beaa-efc6cc9265cd-17-1_00000.c000.csv', name='part-00000-tid-1702600991145306701-690ad92f-f327-4fad-beaa-efc6cc9265cd-17-1_00000.c000.csv', size=239, modificationTime=1729364860000),\n FileInfo(path='dbfs:/FileStore/tables/bucket_by_id/part-00000-tid-1702600991145306701-690ad92f-f327-4fad-beaa-efc6cc9265cd-17-2_00001.c000.csv', name='part-00000-tid-1702600991145306701-690ad92f-f327-4fad-beaa-efc6cc9265cd-17-2_00001.c000.csv', size=172, modificationTime=1729364860000),\n FileInfo(path='dbfs:/FileStore/tables/bucket_by_id/part-00000-tid-1702600991145306701-690ad92f-f327-4fad-beaa-efc6cc9265cd-17-3_00002.c000.csv', name='part-00000-tid-1702600991145306701-690ad92f-f327-4fad-beaa-efc6cc9265cd-17-3_00002.c000.csv', size=87, modificationTime=1729364860000)]"
     ]
    }
   ],
   "source": [
    "dbutils.fs.ls(\"/FileStore/tables/bucket_by_id\")"
   ]
  },
  {
   "cell_type": "code",
   "execution_count": 0,
   "metadata": {
    "application/vnd.databricks.v1+cell": {
     "cellMetadata": {},
     "inputWidgets": {},
     "nuid": "d19a762c-91b3-4862-9f18-78713b37bef6",
     "showTitle": false,
     "tableResultSettingsMap": {},
     "title": ""
    }
   },
   "outputs": [],
   "source": []
  }
 ],
 "metadata": {
  "application/vnd.databricks.v1+notebook": {
   "dashboards": [],
   "environmentMetadata": null,
   "language": "python",
   "notebookMetadata": {
    "pythonIndentUnit": 4
   },
   "notebookName": "write_file_in_spark",
   "widgets": {}
  }
 },
 "nbformat": 4,
 "nbformat_minor": 0
}
