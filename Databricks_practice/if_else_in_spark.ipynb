{
 "cells": [
  {
   "cell_type": "code",
   "execution_count": 0,
   "metadata": {
    "application/vnd.databricks.v1+cell": {
     "cellMetadata": {
      "byteLimit": 2048000,
      "rowLimit": 10000
     },
     "inputWidgets": {},
     "nuid": "b0f181b8-8637-4944-b002-ef072886c809",
     "showTitle": false,
     "tableResultSettingsMap": {},
     "title": ""
    }
   },
   "outputs": [],
   "source": [
    "from pyspark.sql.functions import *\n",
    "from pyspark.sql.types import *"
   ]
  },
  {
   "cell_type": "code",
   "execution_count": 0,
   "metadata": {
    "application/vnd.databricks.v1+cell": {
     "cellMetadata": {
      "byteLimit": 2048000,
      "rowLimit": 10000
     },
     "inputWidgets": {},
     "nuid": "8aa99f35-5a33-4c1a-a680-47a18fd90814",
     "showTitle": false,
     "tableResultSettingsMap": {},
     "title": ""
    }
   },
   "outputs": [
    {
     "output_type": "stream",
     "name": "stdout",
     "output_type": "stream",
     "text": [
      "+----+-------+----+------+-------+-----------+\n|  id|   name| age|salary|country|       dept|\n+----+-------+----+------+-------+-----------+\n|   1| manish|  26| 20000|  india|         IT|\n|   2|  rahul|null| 40000|germany|engineering|\n|   3|  pawan|  12| 60000|  india|      sales|\n|   4|roshini|  44|  null|     uk|engineering|\n|   5|raushan|  35| 70000|  india|      sales|\n|   6|   null|  29|200000|     uk|         IT|\n|   7|   adam|  37| 65000|     us|         IT|\n|   8|  chris|  16| 40000|     us|      sales|\n|null|   null|null|  null|   null|       null|\n|   7|   adam|  37| 65000|     us|         IT|\n+----+-------+----+------+-------+-----------+\n\n"
     ]
    }
   ],
   "source": [
    "emp_data = [\n",
    "(1,'manish',26,20000,'india','IT'),\n",
    "(2,'rahul',None,40000,'germany','engineering'),\n",
    "(3,'pawan',12,60000,'india','sales'),\n",
    "(4,'roshini',44,None,'uk','engineering'),\n",
    "(5,'raushan',35,70000,'india','sales'),\n",
    "(6,None,29,200000,'uk','IT'),\n",
    "(7,'adam',37,65000,'us','IT'),\n",
    "(8,'chris',16,40000,'us','sales'),\n",
    "(None,None,None,None,None,None),\n",
    "(7,'adam',37,65000,'us','IT')]\n",
    "\n",
    "schema = ['id','name','age','salary','country','dept']\n",
    "\n",
    "emp_df = spark.createDataFrame(data=emp_data,schema=schema)\n",
    "\n",
    "\n",
    "emp_df.show()\n",
    "\n",
    "\n"
   ]
  },
  {
   "cell_type": "code",
   "execution_count": 0,
   "metadata": {
    "application/vnd.databricks.v1+cell": {
     "cellMetadata": {
      "byteLimit": 2048000,
      "rowLimit": 10000
     },
     "inputWidgets": {},
     "nuid": "978797e8-6354-4350-945e-4e09f161a71f",
     "showTitle": false,
     "tableResultSettingsMap": {},
     "title": ""
    }
   },
   "outputs": [
    {
     "output_type": "stream",
     "name": "stdout",
     "output_type": "stream",
     "text": [
      "+----+-------+----+------+-------+-----------+------+\n|  id|   name| age|salary|country|       dept| adult|\n+----+-------+----+------+-------+-----------+------+\n|   1| manish|  26| 20000|  india|         IT|   Yes|\n|   2|  rahul|null| 40000|germany|engineering|NoVale|\n|   3|  pawan|  12| 60000|  india|      sales|    No|\n|   4|roshini|  44|  null|     uk|engineering|   Yes|\n|   5|raushan|  35| 70000|  india|      sales|   Yes|\n|   6|   null|  29|200000|     uk|         IT|   Yes|\n|   7|   adam|  37| 65000|     us|         IT|   Yes|\n|   8|  chris|  16| 40000|     us|      sales|    No|\n|null|   null|null|  null|   null|       null|NoVale|\n|   7|   adam|  37| 65000|     us|         IT|   Yes|\n+----+-------+----+------+-------+-----------+------+\n\n"
     ]
    }
   ],
   "source": [
    "emp_df.withColumn('adult',when(col('age') < 18,'No')\n",
    "                  .when(col(\"age\")> 18,'Yes')\n",
    "                  .otherwise('NoVale')).show()"
   ]
  },
  {
   "cell_type": "code",
   "execution_count": 0,
   "metadata": {
    "application/vnd.databricks.v1+cell": {
     "cellMetadata": {
      "byteLimit": 2048000,
      "rowLimit": 10000
     },
     "inputWidgets": {},
     "nuid": "fe7c751c-2098-4651-b6b1-b04c55ed6e90",
     "showTitle": false,
     "tableResultSettingsMap": {},
     "title": ""
    }
   },
   "outputs": [
    {
     "output_type": "stream",
     "name": "stdout",
     "output_type": "stream",
     "text": [
      "+----+-------+---+------+-------+-----------+-----+\n|  id|   name|age|salary|country|       dept|adult|\n+----+-------+---+------+-------+-----------+-----+\n|   1| manish| 26| 20000|  india|         IT|  Yes|\n|   2|  rahul| 19| 40000|germany|engineering|  Yes|\n|   3|  pawan| 12| 60000|  india|      sales|   No|\n|   4|roshini| 44|  null|     uk|engineering|  Yes|\n|   5|raushan| 35| 70000|  india|      sales|  Yes|\n|   6|   null| 29|200000|     uk|         IT|  Yes|\n|   7|   adam| 37| 65000|     us|         IT|  Yes|\n|   8|  chris| 16| 40000|     us|      sales|   No|\n|null|   null| 19|  null|   null|       null|  Yes|\n|   7|   adam| 37| 65000|     us|         IT|  Yes|\n+----+-------+---+------+-------+-----------+-----+\n\n"
     ]
    }
   ],
   "source": [
    "emp_df.withColumn('age',when(col('age').isNull(),lit(19)).otherwise(col('age')))\\\n",
    "        .withColumn(\"adult\",when(col(\"age\")>18,\"Yes\").\n",
    "                    otherwise(\"No\")).show()\n",
    "                  "
   ]
  },
  {
   "cell_type": "code",
   "execution_count": 0,
   "metadata": {
    "application/vnd.databricks.v1+cell": {
     "cellMetadata": {
      "byteLimit": 2048000,
      "rowLimit": 10000
     },
     "inputWidgets": {},
     "nuid": "8c10abd2-8331-4e96-a782-40509ad2e6c5",
     "showTitle": false,
     "tableResultSettingsMap": {},
     "title": ""
    }
   },
   "outputs": [
    {
     "output_type": "stream",
     "name": "stdout",
     "output_type": "stream",
     "text": [
      "+----+-------+----+------+-------+-----------+--------+\n|  id|   name| age|salary|country|       dept|age_wise|\n+----+-------+----+------+-------+-----------+--------+\n|   1| manish|  26| 20000|  india|         IT|     Mid|\n|   2|  rahul|null| 40000|germany|engineering|   Major|\n|   3|  pawan|  12| 60000|  india|      sales|   Minor|\n|   4|roshini|  44|  null|     uk|engineering|   Major|\n|   5|raushan|  35| 70000|  india|      sales|   Major|\n|   6|   null|  29|200000|     uk|         IT|     Mid|\n|   7|   adam|  37| 65000|     us|         IT|   Major|\n|   8|  chris|  16| 40000|     us|      sales|   Minor|\n|null|   null|null|  null|   null|       null|   Major|\n|   7|   adam|  37| 65000|     us|         IT|   Major|\n+----+-------+----+------+-------+-----------+--------+\n\n"
     ]
    }
   ],
   "source": [
    "emp_df.withColumn(\"age_wise\",when((col(\"age\") > 0) & (col(\"age\") < 18), \"Minor\")\n",
    "                            .when((col(\"age\")> 18) & (col(\"age\") < 30),\"Mid\")\n",
    "                            .otherwise(\"Major\"))\\\n",
    "                            .show()"
   ]
  },
  {
   "cell_type": "code",
   "execution_count": 0,
   "metadata": {
    "application/vnd.databricks.v1+cell": {
     "cellMetadata": {
      "byteLimit": 2048000,
      "rowLimit": 10000
     },
     "inputWidgets": {},
     "nuid": "3eb6e4ef-5ed3-4342-a5b3-78a019c9884c",
     "showTitle": false,
     "tableResultSettingsMap": {},
     "title": ""
    }
   },
   "outputs": [],
   "source": [
    "emp_df.createOrReplaceTempView(\"emp_tbl\")"
   ]
  },
  {
   "cell_type": "code",
   "execution_count": 0,
   "metadata": {
    "application/vnd.databricks.v1+cell": {
     "cellMetadata": {
      "byteLimit": 2048000,
      "rowLimit": 10000
     },
     "inputWidgets": {},
     "nuid": "6e2ced28-8911-4a8f-9af7-816ea473905a",
     "showTitle": false,
     "tableResultSettingsMap": {},
     "title": ""
    }
   },
   "outputs": [
    {
     "output_type": "stream",
     "name": "stdout",
     "output_type": "stream",
     "text": [
      "+----+-------+----+------+-------+-----------+-------+\n|  id|   name| age|salary|country|       dept|  adult|\n+----+-------+----+------+-------+-----------+-------+\n|   1| manish|  26| 20000|  india|         IT|  major|\n|   2|  rahul|null| 40000|germany|engineering|novalue|\n|   3|  pawan|  12| 60000|  india|      sales|  minor|\n|   4|roshini|  44|  null|     uk|engineering|  major|\n|   5|raushan|  35| 70000|  india|      sales|  major|\n|   6|   null|  29|200000|     uk|         IT|  major|\n|   7|   adam|  37| 65000|     us|         IT|  major|\n|   8|  chris|  16| 40000|     us|      sales|  minor|\n|null|   null|null|  null|   null|       null|novalue|\n|   7|   adam|  37| 65000|     us|         IT|  major|\n+----+-------+----+------+-------+-----------+-------+\n\n"
     ]
    }
   ],
   "source": [
    "# In Spark SQL\n",
    "spark.sql(\"\"\"\n",
    "          select *,\n",
    "          case when age<18 then 'minor'\n",
    "          when age>18 then 'major'\n",
    "          else 'novalue'\n",
    "          end as adult\n",
    "          from  emp_tbl\n",
    "          \"\"\").show()"
   ]
  },
  {
   "cell_type": "code",
   "execution_count": 0,
   "metadata": {
    "application/vnd.databricks.v1+cell": {
     "cellMetadata": {},
     "inputWidgets": {},
     "nuid": "69beb69d-701c-4a06-aec6-01f39b006bd8",
     "showTitle": false,
     "tableResultSettingsMap": {},
     "title": ""
    }
   },
   "outputs": [],
   "source": []
  }
 ],
 "metadata": {
  "application/vnd.databricks.v1+notebook": {
   "dashboards": [],
   "environmentMetadata": null,
   "language": "python",
   "notebookMetadata": {
    "pythonIndentUnit": 4
   },
   "notebookName": "if_else_in_spark",
   "widgets": {}
  }
 },
 "nbformat": 4,
 "nbformat_minor": 0
}
