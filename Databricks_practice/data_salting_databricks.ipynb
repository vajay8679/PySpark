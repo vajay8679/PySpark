{
 "cells": [
  {
   "cell_type": "code",
   "execution_count": 0,
   "metadata": {
    "application/vnd.databricks.v1+cell": {
     "cellMetadata": {
      "byteLimit": 2048000,
      "rowLimit": 10000
     },
     "inputWidgets": {},
     "nuid": "4f614d5a-3677-4073-aad4-17001b6841de",
     "showTitle": false,
     "tableResultSettingsMap": {},
     "title": ""
    }
   },
   "outputs": [
    {
     "output_type": "stream",
     "name": "stdout",
     "output_type": "stream",
     "text": [
      "50000025\n+---+----------+\n| id|salted_key|\n+---+----------+\n|  1|       1_1|\n|  1|       1_2|\n|  1|       1_3|\n|  1|       1_4|\n|  1|       1_5|\n|  1|       1_6|\n|  1|       1_7|\n|  1|       1_8|\n|  1|       1_9|\n|  1|      1_10|\n|  1|       1_1|\n|  1|       1_2|\n|  1|       1_3|\n|  1|       1_4|\n|  1|       1_5|\n|  1|       1_6|\n|  1|       1_7|\n|  1|       1_8|\n|  1|       1_9|\n|  1|      1_10|\n|  1|       1_1|\n|  1|       1_2|\n|  1|       1_3|\n|  1|       1_4|\n|  1|       1_5|\n|  1|       1_6|\n|  1|       1_7|\n|  1|       1_8|\n|  1|       1_9|\n|  1|      1_10|\n|  1|       1_1|\n|  1|       1_2|\n|  1|       1_3|\n|  1|       1_4|\n|  1|       1_5|\n|  1|       1_6|\n|  1|       1_7|\n|  1|       1_8|\n|  1|       1_9|\n|  1|      1_10|\n|  1|       1_1|\n|  1|       1_2|\n|  1|       1_3|\n|  1|       1_4|\n|  1|       1_5|\n|  1|       1_6|\n|  1|       1_7|\n|  1|       1_8|\n|  1|       1_9|\n|  1|      1_10|\n|  2|       2_1|\n|  2|       2_2|\n|  2|       2_3|\n|  2|       2_4|\n|  2|       2_5|\n|  2|       2_6|\n|  2|       2_7|\n|  2|       2_8|\n|  2|       2_9|\n|  2|      2_10|\n|  2|       2_1|\n|  2|       2_2|\n|  2|       2_3|\n|  2|       2_4|\n|  2|       2_5|\n|  2|       2_6|\n|  2|       2_7|\n|  2|       2_8|\n|  2|       2_9|\n|  2|      2_10|\n|  2|       2_1|\n|  2|       2_2|\n|  2|       2_3|\n|  2|       2_4|\n|  2|       2_5|\n|  2|       2_6|\n|  2|       2_7|\n|  2|       2_8|\n|  2|       2_9|\n|  2|      2_10|\n|  3|       3_1|\n|  3|       3_2|\n|  3|       3_3|\n|  3|       3_4|\n|  3|       3_5|\n|  3|       3_6|\n|  3|       3_7|\n|  3|       3_8|\n|  3|       3_9|\n|  3|      3_10|\n|  3|       3_1|\n|  3|       3_2|\n|  3|       3_3|\n|  3|       3_4|\n|  3|       3_5|\n|  3|       3_6|\n|  3|       3_7|\n|  3|       3_8|\n|  3|       3_9|\n|  3|      3_10|\n+---+----------+\n\n50000025\n"
     ]
    },
    {
     "output_type": "display_data",
     "data": {
      "text/plain": [
       "Enter somethign here e"
      ]
     },
     "metadata": {},
     "output_type": "display_data"
    },
    {
     "output_type": "stream",
     "name": "stdout",
     "output_type": "stream",
     "text": [
      "Out[6]: 'e'"
     ]
    }
   ],
   "source": [
    "from pyspark.sql import *\n",
    "from pyspark.sql.functions import *\n",
    "\n",
    "spark = SparkSession.builder\\\n",
    "        .appName('Testing-ajay')\\\n",
    "        .config(\"spark.ui.port\", \"4050\").master(\"local[*]\")\\\n",
    "        .config('spark.sql.shuffle.partitions',3)\\\n",
    "        .config('spark.sql.adaptive.enabled','false')\\\n",
    "        .getOrCreate()\n",
    "\n",
    "id_values = [1] * 10000000 + [2] * 5 + [3] * 5\n",
    "table1 = spark.createDataFrame(id_values,\"int\").toDF(\"id\")\n",
    "\n",
    "id_values = [1] * 5 + [2] * 3 + [3] * 2\n",
    "table2 = spark.createDataFrame(id_values,\"int\").toDF(\"id\")\n",
    "\n",
    "data = table1.join(table2,'id','inner')\n",
    "print(data.count())\n",
    "\n",
    "df_with_random = table1.withColumn(\"random_num\",(rand() * 10 + 1).cast(\"int\"))\n",
    "\n",
    "table1 = df_with_random.withColumn(\"salted_key\",concat(expr(\"id\"),lit('_'),expr(\"random_num\")))\n",
    "\n",
    "table2_replicated = table2.withColumn(\"sequence\", array([lit(i) for i in range(1,11)]))\n",
    "# table2_replicated.show(20,truncate=False)\n",
    "\n",
    "table2 = table2_replicated.withColumn(\"exploded_col\",explode(col(\"sequence\")))\\\n",
    "            .withColumn(\"salted_key\",concat(expr(\"id\"),lit(\"_\"),(expr(\"exploded_col\"))))\\\n",
    "            .drop(\"exploded_col\",\"sequence\")\n",
    "table2.show(100)\n",
    "data = table1.join(table2,'salted_key','inner')\n",
    "print(data.count())\n",
    "\n",
    "\n",
    "\n",
    "input(\"Enter somethign here\")"
   ]
  },
  {
   "cell_type": "code",
   "execution_count": 0,
   "metadata": {
    "application/vnd.databricks.v1+cell": {
     "cellMetadata": {},
     "inputWidgets": {},
     "nuid": "09cfd0cf-d29c-472b-b528-d1bb17a67a25",
     "showTitle": false,
     "tableResultSettingsMap": {},
     "title": ""
    }
   },
   "outputs": [],
   "source": []
  }
 ],
 "metadata": {
  "application/vnd.databricks.v1+notebook": {
   "computePreferences": null,
   "dashboards": [],
   "environmentMetadata": {
    "base_environment": "",
    "client": "1"
   },
   "language": "python",
   "notebookMetadata": {
    "pythonIndentUnit": 4
   },
   "notebookName": "Untitled Notebook 2025-01-25 22:24:34",
   "widgets": {}
  }
 },
 "nbformat": 4,
 "nbformat_minor": 0
}
