{
 "cells": [
  {
   "cell_type": "code",
   "execution_count": 0,
   "metadata": {
    "application/vnd.databricks.v1+cell": {
     "cellMetadata": {
      "byteLimit": 2048000,
      "rowLimit": 10000
     },
     "inputWidgets": {},
     "nuid": "23a4a1b1-4474-4254-8cc8-fd86384ad0bf",
     "showTitle": false,
     "tableResultSettingsMap": {},
     "title": ""
    }
   },
   "outputs": [],
   "source": [
    "from pyspark.sql.functions import *\n",
    "from pyspark.sql.types import *"
   ]
  },
  {
   "cell_type": "code",
   "execution_count": 0,
   "metadata": {
    "application/vnd.databricks.v1+cell": {
     "cellMetadata": {
      "byteLimit": 2048000,
      "rowLimit": 10000
     },
     "inputWidgets": {},
     "nuid": "d642c978-469f-446d-8280-ca667d2c5612",
     "showTitle": false,
     "tableResultSettingsMap": {},
     "title": ""
    }
   },
   "outputs": [],
   "source": [
    "emp_data = [(1,'manish',50000,'IT','m'),\n",
    "(2,'vikash',60000,'sales','m'),\n",
    "(3,'raushan',70000,'marketing','m'),\n",
    "(4,'mukesh',80000,'IT','m'),\n",
    "(5,'priti',90000,'sales','f'),\n",
    "(6,'nikita',45000,'marketing','f'),\n",
    "(7,'ragini',55000,'marketing','f'),\n",
    "(8,'rashi',100000,'IT','f'),\n",
    "(9,'aditya',65000,'IT','m'),\n",
    "(10,'rahul',50000,'marketing','m'),\n",
    "(11,'rakhi',50000,'IT','f'),\n",
    "(12,'akhilesh',90000,'sales','m')]\n",
    "\n",
    "schema = ['id','name','salary','dept','gender']\n",
    "\n",
    "emp_df = spark.createDataFrame(data=emp_data, schema=schema)"
   ]
  },
  {
   "cell_type": "code",
   "execution_count": 0,
   "metadata": {
    "application/vnd.databricks.v1+cell": {
     "cellMetadata": {
      "byteLimit": 2048000,
      "rowLimit": 10000
     },
     "inputWidgets": {},
     "nuid": "635d91fd-3311-42f9-ac5f-fd5e92d80059",
     "showTitle": false,
     "tableResultSettingsMap": {},
     "title": ""
    }
   },
   "outputs": [
    {
     "output_type": "stream",
     "name": "stdout",
     "output_type": "stream",
     "text": [
      "+---+--------+------+---------+------+\n| id|    name|salary|     dept|gender|\n+---+--------+------+---------+------+\n|  1|  manish| 50000|       IT|     m|\n|  2|  vikash| 60000|    sales|     m|\n|  3| raushan| 70000|marketing|     m|\n|  4|  mukesh| 80000|       IT|     m|\n|  5|   priti| 90000|    sales|     f|\n|  6|  nikita| 45000|marketing|     f|\n|  7|  ragini| 55000|marketing|     f|\n|  8|   rashi|100000|       IT|     f|\n|  9|  aditya| 65000|       IT|     m|\n| 10|   rahul| 50000|marketing|     m|\n| 11|   rakhi| 50000|       IT|     f|\n| 12|akhilesh| 90000|    sales|     m|\n+---+--------+------+---------+------+\n\n"
     ]
    }
   ],
   "source": [
    "emp_df.show()"
   ]
  },
  {
   "cell_type": "markdown",
   "metadata": {
    "application/vnd.databricks.v1+cell": {
     "cellMetadata": {
      "byteLimit": 2048000,
      "rowLimit": 10000
     },
     "inputWidgets": {},
     "nuid": "42a1548c-61ab-4aff-b24d-dfe9b1c8dede",
     "showTitle": false,
     "tableResultSettingsMap": {},
     "title": ""
    }
   },
   "source": [
    "### Group By"
   ]
  },
  {
   "cell_type": "code",
   "execution_count": 0,
   "metadata": {
    "application/vnd.databricks.v1+cell": {
     "cellMetadata": {
      "byteLimit": 2048000,
      "rowLimit": 10000
     },
     "inputWidgets": {},
     "nuid": "b374909f-f808-448e-a4b4-3cdf65072911",
     "showTitle": false,
     "tableResultSettingsMap": {},
     "title": ""
    }
   },
   "outputs": [
    {
     "output_type": "stream",
     "name": "stdout",
     "output_type": "stream",
     "text": [
      "+---------+-----------+\n|     dept|sum(salary)|\n+---------+-----------+\n|       IT|     345000|\n|marketing|     220000|\n|    sales|     240000|\n+---------+-----------+\n\n"
     ]
    }
   ],
   "source": [
    "emp_df.groupBy(\"dept\")\\\n",
    "    .agg(sum(\"salary\")).show()"
   ]
  },
  {
   "cell_type": "markdown",
   "metadata": {
    "application/vnd.databricks.v1+cell": {
     "cellMetadata": {
      "byteLimit": 2048000,
      "rowLimit": 10000
     },
     "inputWidgets": {},
     "nuid": "a33ea9ae-a162-43e0-8b2e-3eecb7c23807",
     "showTitle": false,
     "tableResultSettingsMap": {},
     "title": ""
    }
   },
   "source": [
    "### Window Function"
   ]
  },
  {
   "cell_type": "code",
   "execution_count": 0,
   "metadata": {
    "application/vnd.databricks.v1+cell": {
     "cellMetadata": {
      "byteLimit": 2048000,
      "rowLimit": 10000
     },
     "inputWidgets": {},
     "nuid": "6c0e536e-f183-43f4-b510-dc1d5bde9ac8",
     "showTitle": false,
     "tableResultSettingsMap": {},
     "title": ""
    }
   },
   "outputs": [
    {
     "output_type": "stream",
     "name": "stdout",
     "output_type": "stream",
     "text": [
      "+---+--------+------+---------+------+------------+\n|id |name    |salary|dept     |gender|total_salary|\n+---+--------+------+---------+------+------------+\n|1  |manish  |50000 |IT       |m     |345000      |\n|4  |mukesh  |80000 |IT       |m     |345000      |\n|8  |rashi   |100000|IT       |f     |345000      |\n|9  |aditya  |65000 |IT       |m     |345000      |\n|11 |rakhi   |50000 |IT       |f     |345000      |\n|3  |raushan |70000 |marketing|m     |220000      |\n|6  |nikita  |45000 |marketing|f     |220000      |\n|7  |ragini  |55000 |marketing|f     |220000      |\n|10 |rahul   |50000 |marketing|m     |220000      |\n|2  |vikash  |60000 |sales    |m     |240000      |\n|5  |priti   |90000 |sales    |f     |240000      |\n|12 |akhilesh|90000 |sales    |m     |240000      |\n+---+--------+------+---------+------+------------+\n\n"
     ]
    }
   ],
   "source": [
    "from pyspark.sql.window import Window\n",
    "\n",
    "window = Window.partitionBy(\"dept\")\n",
    "\n",
    "emp_df.withColumn(\"total_salary\",sum(col('salary')).over(window))\\\n",
    "    .show(truncate=False)"
   ]
  },
  {
   "cell_type": "code",
   "execution_count": 0,
   "metadata": {
    "application/vnd.databricks.v1+cell": {
     "cellMetadata": {
      "byteLimit": 2048000,
      "rowLimit": 10000
     },
     "inputWidgets": {},
     "nuid": "8678c398-b1af-4e1d-a34a-cb325da704d2",
     "showTitle": false,
     "tableResultSettingsMap": {},
     "title": ""
    }
   },
   "outputs": [
    {
     "output_type": "stream",
     "name": "stdout",
     "output_type": "stream",
     "text": [
      "+---+--------+------+---------+------+----------+\n|id |name    |salary|dept     |gender|row_number|\n+---+--------+------+---------+------+----------+\n|1  |manish  |50000 |IT       |m     |1         |\n|11 |rakhi   |50000 |IT       |f     |2         |\n|9  |aditya  |65000 |IT       |m     |3         |\n|4  |mukesh  |80000 |IT       |m     |4         |\n|8  |rashi   |100000|IT       |f     |5         |\n|6  |nikita  |45000 |marketing|f     |1         |\n|10 |rahul   |50000 |marketing|m     |2         |\n|7  |ragini  |55000 |marketing|f     |3         |\n|3  |raushan |70000 |marketing|m     |4         |\n|2  |vikash  |60000 |sales    |m     |1         |\n|5  |priti   |90000 |sales    |f     |2         |\n|12 |akhilesh|90000 |sales    |m     |3         |\n+---+--------+------+---------+------+----------+\n\n"
     ]
    }
   ],
   "source": [
    "from pyspark.sql.window import Window\n",
    "\n",
    "window = Window.partitionBy(\"dept\").orderBy(\"salary\")\n",
    "\n",
    "emp_df.withColumn('row_number',row_number().over(window))\\\n",
    "    .show(truncate=False)"
   ]
  },
  {
   "cell_type": "code",
   "execution_count": 0,
   "metadata": {
    "application/vnd.databricks.v1+cell": {
     "cellMetadata": {
      "byteLimit": 2048000,
      "rowLimit": 10000
     },
     "inputWidgets": {},
     "nuid": "025f044a-6075-41d6-9529-5f3ebe1e79bc",
     "showTitle": false,
     "tableResultSettingsMap": {},
     "title": ""
    }
   },
   "outputs": [
    {
     "output_type": "stream",
     "name": "stdout",
     "output_type": "stream",
     "text": [
      "+---+--------+------+---------+------+----------+----+----------+\n|id |name    |salary|dept     |gender|row_number|rank|dence_rank|\n+---+--------+------+---------+------+----------+----+----------+\n|1  |manish  |50000 |IT       |m     |1         |1   |1         |\n|11 |rakhi   |50000 |IT       |f     |2         |1   |1         |\n|9  |aditya  |65000 |IT       |m     |3         |3   |2         |\n|4  |mukesh  |80000 |IT       |m     |4         |4   |3         |\n|8  |rashi   |100000|IT       |f     |5         |5   |4         |\n|6  |nikita  |45000 |marketing|f     |1         |1   |1         |\n|10 |rahul   |50000 |marketing|m     |2         |2   |2         |\n|7  |ragini  |55000 |marketing|f     |3         |3   |3         |\n|3  |raushan |70000 |marketing|m     |4         |4   |4         |\n|2  |vikash  |60000 |sales    |m     |1         |1   |1         |\n|5  |priti   |90000 |sales    |f     |2         |2   |2         |\n|12 |akhilesh|90000 |sales    |m     |3         |2   |2         |\n+---+--------+------+---------+------+----------+----+----------+\n\n"
     ]
    }
   ],
   "source": [
    "from pyspark.sql.window import Window\n",
    "\n",
    "window = Window.partitionBy(\"dept\").orderBy(\"salary\")\n",
    "\n",
    "emp_df.withColumn(\"row_number\",row_number().over(window))\\\n",
    "    .withColumn(\"rank\",rank().over(window))\\\n",
    "    .withColumn(\"dence_rank\",dense_rank().over(window))\\\n",
    "    .show(truncate=False)"
   ]
  },
  {
   "cell_type": "code",
   "execution_count": 0,
   "metadata": {
    "application/vnd.databricks.v1+cell": {
     "cellMetadata": {
      "byteLimit": 2048000,
      "rowLimit": 10000
     },
     "inputWidgets": {},
     "nuid": "f68c148e-ffc2-4307-81e4-bedea0b7d4e6",
     "showTitle": false,
     "tableResultSettingsMap": {},
     "title": ""
    }
   },
   "outputs": [
    {
     "output_type": "stream",
     "name": "stdout",
     "output_type": "stream",
     "text": [
      "+---+--------+------+---------+------+----------+----+----------+\n|id |name    |salary|dept     |gender|row_number|rank|dence_rank|\n+---+--------+------+---------+------+----------+----+----------+\n|11 |rakhi   |50000 |IT       |f     |1         |1   |1         |\n|8  |rashi   |100000|IT       |f     |2         |2   |2         |\n|1  |manish  |50000 |IT       |m     |1         |1   |1         |\n|9  |aditya  |65000 |IT       |m     |2         |2   |2         |\n|4  |mukesh  |80000 |IT       |m     |3         |3   |3         |\n|6  |nikita  |45000 |marketing|f     |1         |1   |1         |\n|7  |ragini  |55000 |marketing|f     |2         |2   |2         |\n|10 |rahul   |50000 |marketing|m     |1         |1   |1         |\n|3  |raushan |70000 |marketing|m     |2         |2   |2         |\n|5  |priti   |90000 |sales    |f     |1         |1   |1         |\n|2  |vikash  |60000 |sales    |m     |1         |1   |1         |\n|12 |akhilesh|90000 |sales    |m     |2         |2   |2         |\n+---+--------+------+---------+------+----------+----+----------+\n\n"
     ]
    }
   ],
   "source": [
    "# top two earner on each dept and each gender\n",
    "\n",
    "from pyspark.sql.window import Window\n",
    "\n",
    "window = Window.partitionBy(\"dept\",\"gender\").orderBy(\"salary\")\n",
    "\n",
    "emp_df.withColumn(\"row_number\",row_number().over(window))\\\n",
    "    .withColumn(\"rank\",rank().over(window))\\\n",
    "    .withColumn(\"dence_rank\",dense_rank().over(window))\\\n",
    "    .show(truncate=False)"
   ]
  },
  {
   "cell_type": "code",
   "execution_count": 0,
   "metadata": {
    "application/vnd.databricks.v1+cell": {
     "cellMetadata": {
      "byteLimit": 2048000,
      "rowLimit": 10000
     },
     "inputWidgets": {},
     "nuid": "15120b35-01c0-4d3a-a69b-4b85730b52fb",
     "showTitle": false,
     "tableResultSettingsMap": {},
     "title": ""
    }
   },
   "outputs": [
    {
     "output_type": "stream",
     "name": "stdout",
     "output_type": "stream",
     "text": [
      "+---+--------+------+---------+------+----------+----+----------+\n|id |name    |salary|dept     |gender|row_number|rank|dense_rank|\n+---+--------+------+---------+------+----------+----+----------+\n|8  |rashi   |100000|IT       |f     |1         |1   |1         |\n|4  |mukesh  |80000 |IT       |m     |2         |2   |2         |\n|3  |raushan |70000 |marketing|m     |1         |1   |1         |\n|7  |ragini  |55000 |marketing|f     |2         |2   |2         |\n|5  |priti   |90000 |sales    |f     |1         |1   |1         |\n|12 |akhilesh|90000 |sales    |m     |2         |1   |1         |\n|2  |vikash  |60000 |sales    |m     |3         |3   |2         |\n+---+--------+------+---------+------+----------+----+----------+\n\n"
     ]
    }
   ],
   "source": [
    "# top two performer in each department\n",
    "\n",
    "from pyspark.sql.window import Window\n",
    "\n",
    "window = Window.partitionBy(\"dept\").orderBy(desc(\"salary\"))\n",
    "\n",
    "emp_df.withColumn(\"row_number\",row_number().over(window))\\\n",
    "    .withColumn(\"rank\",rank().over(window))\\\n",
    "    .withColumn(\"dense_rank\",dense_rank().over(window))\\\n",
    "    .filter(col(\"dense_rank\") <= 2)\\\n",
    "    .show(truncate=False)"
   ]
  },
  {
   "cell_type": "code",
   "execution_count": 0,
   "metadata": {
    "application/vnd.databricks.v1+cell": {
     "cellMetadata": {
      "byteLimit": 2048000,
      "rowLimit": 10000
     },
     "inputWidgets": {},
     "nuid": "eaeb132a-c3c2-4396-9e34-f6212d274361",
     "showTitle": false,
     "tableResultSettingsMap": {},
     "title": ""
    }
   },
   "outputs": [
    {
     "output_type": "stream",
     "name": "stdout",
     "output_type": "stream",
     "text": [
      "+---+--------+------+---------+------+----------+----+----------+\n|id |name    |salary|dept     |gender|row_number|rank|dense_rank|\n+---+--------+------+---------+------+----------+----+----------+\n|8  |rashi   |100000|IT       |f     |1         |1   |1         |\n|11 |rakhi   |50000 |IT       |f     |2         |2   |2         |\n|4  |mukesh  |80000 |IT       |m     |1         |1   |1         |\n|9  |aditya  |65000 |IT       |m     |2         |2   |2         |\n|7  |ragini  |55000 |marketing|f     |1         |1   |1         |\n|6  |nikita  |45000 |marketing|f     |2         |2   |2         |\n|3  |raushan |70000 |marketing|m     |1         |1   |1         |\n|10 |rahul   |50000 |marketing|m     |2         |2   |2         |\n|5  |priti   |90000 |sales    |f     |1         |1   |1         |\n|12 |akhilesh|90000 |sales    |m     |1         |1   |1         |\n|2  |vikash  |60000 |sales    |m     |2         |2   |2         |\n+---+--------+------+---------+------+----------+----+----------+\n\n"
     ]
    }
   ],
   "source": [
    "# top two performer in each department and each gender\n",
    "\n",
    "from pyspark.sql.window import Window\n",
    "\n",
    "window = Window.partitionBy(\"dept\",\"gender\").orderBy(desc(\"salary\"))\n",
    "\n",
    "emp_df.withColumn(\"row_number\",row_number().over(window))\\\n",
    "    .withColumn(\"rank\",rank().over(window))\\\n",
    "    .withColumn(\"dense_rank\",dense_rank().over(window))\\\n",
    "    .filter(col(\"dense_rank\") <= 2)\\\n",
    "    .show(truncate=False)"
   ]
  },
  {
   "cell_type": "markdown",
   "metadata": {
    "application/vnd.databricks.v1+cell": {
     "cellMetadata": {
      "byteLimit": 2048000,
      "rowLimit": 10000
     },
     "inputWidgets": {},
     "nuid": "819199bd-e5c9-492c-bcd7-8184e0fa2026",
     "showTitle": false,
     "tableResultSettingsMap": {},
     "title": ""
    }
   },
   "source": [
    "# lead and lag in spark | window function in pyspark"
   ]
  },
  {
   "cell_type": "code",
   "execution_count": 0,
   "metadata": {
    "application/vnd.databricks.v1+cell": {
     "cellMetadata": {
      "byteLimit": 2048000,
      "rowLimit": 10000
     },
     "inputWidgets": {},
     "nuid": "004137f1-f6f3-4c6c-b2ea-d95b462961f5",
     "showTitle": false,
     "tableResultSettingsMap": {},
     "title": ""
    }
   },
   "outputs": [],
   "source": [
    "from pyspark.sql.functions import *\n",
    "from pyspark.sql.types import *\n",
    "from pyspark.sql.window import Window"
   ]
  },
  {
   "cell_type": "code",
   "execution_count": 0,
   "metadata": {
    "application/vnd.databricks.v1+cell": {
     "cellMetadata": {
      "byteLimit": 2048000,
      "rowLimit": 10000
     },
     "inputWidgets": {},
     "nuid": "614dfe40-f30b-41fa-935e-835d60094eed",
     "showTitle": false,
     "tableResultSettingsMap": {},
     "title": ""
    }
   },
   "outputs": [],
   "source": [
    "product_data = [\n",
    "(1,\"iphone\",\"01-01-2023\",1500000),\n",
    "(2,\"samsung\",\"01-01-2023\",1100000),\n",
    "(3,\"oneplus\",\"01-01-2023\",1100000),\n",
    "(1,\"iphone\",\"01-02-2023\",1300000),\n",
    "(2,\"samsung\",\"01-02-2023\",1120000),\n",
    "(3,\"oneplus\",\"01-02-2023\",1120000),\n",
    "(1,\"iphone\",\"01-03-2023\",1600000),\n",
    "(2,\"samsung\",\"01-03-2023\",1080000),\n",
    "(3,\"oneplus\",\"01-03-2023\",1160000),\n",
    "(1,\"iphone\",\"01-04-2023\",1700000),\n",
    "(2,\"samsung\",\"01-04-2023\",1800000),\n",
    "(3,\"oneplus\",\"01-04-2023\",1170000),\n",
    "(1,\"iphone\",\"01-05-2023\",1200000),\n",
    "(2,\"samsung\",\"01-05-2023\",980000),\n",
    "(3,\"oneplus\",\"01-05-2023\",1175000),\n",
    "(1,\"iphone\",\"01-06-2023\",1100000),\n",
    "(2,\"samsung\",\"01-06-2023\",1100000),\n",
    "(3,\"oneplus\",\"01-06-2023\",1200000)\n",
    "]\n",
    "\n",
    "product_schema = [\"product_id\",\"product_name\",\"sales_date\",\"sales\"]\n",
    "\n",
    "product_df = spark.createDataFrame(data = product_data, schema = product_schema)"
   ]
  },
  {
   "cell_type": "code",
   "execution_count": 0,
   "metadata": {
    "application/vnd.databricks.v1+cell": {
     "cellMetadata": {
      "byteLimit": 2048000,
      "rowLimit": 10000
     },
     "inputWidgets": {},
     "nuid": "748c48f0-3846-4d41-a0e2-5a0819243702",
     "showTitle": false,
     "tableResultSettingsMap": {},
     "title": ""
    }
   },
   "outputs": [
    {
     "output_type": "stream",
     "name": "stdout",
     "output_type": "stream",
     "text": [
      "+----------+------------+----------+-------+\n|product_id|product_name|sales_date|  sales|\n+----------+------------+----------+-------+\n|         1|      iphone|01-01-2023|1500000|\n|         2|     samsung|01-01-2023|1100000|\n|         3|     oneplus|01-01-2023|1100000|\n|         1|      iphone|01-02-2023|1300000|\n|         2|     samsung|01-02-2023|1120000|\n|         3|     oneplus|01-02-2023|1120000|\n|         1|      iphone|01-03-2023|1600000|\n|         2|     samsung|01-03-2023|1080000|\n|         3|     oneplus|01-03-2023|1160000|\n|         1|      iphone|01-04-2023|1700000|\n|         2|     samsung|01-04-2023|1800000|\n|         3|     oneplus|01-04-2023|1170000|\n|         1|      iphone|01-05-2023|1200000|\n|         2|     samsung|01-05-2023| 980000|\n|         3|     oneplus|01-05-2023|1175000|\n|         1|      iphone|01-06-2023|1100000|\n|         2|     samsung|01-06-2023|1100000|\n|         3|     oneplus|01-06-2023|1200000|\n+----------+------------+----------+-------+\n\n"
     ]
    }
   ],
   "source": [
    "product_df.show()"
   ]
  },
  {
   "cell_type": "code",
   "execution_count": 0,
   "metadata": {
    "application/vnd.databricks.v1+cell": {
     "cellMetadata": {
      "byteLimit": 2048000,
      "rowLimit": 10000
     },
     "inputWidgets": {},
     "nuid": "75a42c16-e122-4c48-a433-d12b498f5171",
     "showTitle": false,
     "tableResultSettingsMap": {},
     "title": ""
    }
   },
   "outputs": [
    {
     "output_type": "stream",
     "name": "stdout",
     "output_type": "stream",
     "text": [
      "+----------+------------+----------+-------+--------------------+\n|product_id|product_name|sales_date|  sales|previous_month_sales|\n+----------+------------+----------+-------+--------------------+\n|         1|      iphone|01-01-2023|1500000|                null|\n|         1|      iphone|01-02-2023|1300000|             1500000|\n|         1|      iphone|01-03-2023|1600000|             1300000|\n|         1|      iphone|01-04-2023|1700000|             1600000|\n|         1|      iphone|01-05-2023|1200000|             1700000|\n|         1|      iphone|01-06-2023|1100000|             1200000|\n|         2|     samsung|01-01-2023|1100000|                null|\n|         2|     samsung|01-02-2023|1120000|             1100000|\n|         2|     samsung|01-03-2023|1080000|             1120000|\n|         2|     samsung|01-04-2023|1800000|             1080000|\n|         2|     samsung|01-05-2023| 980000|             1800000|\n|         2|     samsung|01-06-2023|1100000|              980000|\n|         3|     oneplus|01-01-2023|1100000|                null|\n|         3|     oneplus|01-02-2023|1120000|             1100000|\n|         3|     oneplus|01-03-2023|1160000|             1120000|\n|         3|     oneplus|01-04-2023|1170000|             1160000|\n|         3|     oneplus|01-05-2023|1175000|             1170000|\n|         3|     oneplus|01-06-2023|1200000|             1175000|\n+----------+------------+----------+-------+--------------------+\n\n"
     ]
    }
   ],
   "source": [
    "#lag - three argument - column , no. of previus records , if no record then null\n",
    "window = Window.partitionBy('product_id').orderBy(\"sales_date\")\n",
    "\n",
    "last_month_df = product_df.withColumn(\"previous_month_sales\",lag(col(\"sales\"),1).over(window))\n",
    "\n",
    "last_month_df.show()"
   ]
  },
  {
   "cell_type": "code",
   "execution_count": 0,
   "metadata": {
    "application/vnd.databricks.v1+cell": {
     "cellMetadata": {
      "byteLimit": 2048000,
      "rowLimit": 10000
     },
     "inputWidgets": {},
     "nuid": "0034aadb-e7f4-4875-9698-5c2f535a2105",
     "showTitle": false,
     "tableResultSettingsMap": {},
     "title": ""
    }
   },
   "outputs": [
    {
     "output_type": "stream",
     "name": "stdout",
     "output_type": "stream",
     "text": [
      "+----------+------------+----------+-------+--------------------+\n|product_id|product_name|sales_date|  sales|previous_month_sales|\n+----------+------------+----------+-------+--------------------+\n|         1|      iphone|01-01-2023|1500000|                null|\n|         1|      iphone|01-02-2023|1300000|             1500000|\n|         1|      iphone|01-03-2023|1600000|             1300000|\n|         1|      iphone|01-04-2023|1700000|             1600000|\n|         1|      iphone|01-05-2023|1200000|             1700000|\n|         1|      iphone|01-06-2023|1100000|             1200000|\n|         2|     samsung|01-01-2023|1100000|                null|\n|         2|     samsung|01-02-2023|1120000|             1100000|\n|         2|     samsung|01-03-2023|1080000|             1120000|\n|         2|     samsung|01-04-2023|1800000|             1080000|\n|         2|     samsung|01-05-2023| 980000|             1800000|\n|         2|     samsung|01-06-2023|1100000|              980000|\n|         3|     oneplus|01-01-2023|1100000|                null|\n|         3|     oneplus|01-02-2023|1120000|             1100000|\n|         3|     oneplus|01-03-2023|1160000|             1120000|\n|         3|     oneplus|01-04-2023|1170000|             1160000|\n|         3|     oneplus|01-05-2023|1175000|             1170000|\n|         3|     oneplus|01-06-2023|1200000|             1175000|\n+----------+------------+----------+-------+--------------------+\n\n"
     ]
    }
   ],
   "source": [
    "#lead - three argument - column , no. of next records , if no record then null\n",
    "window = Window.partitionBy('product_id').orderBy(\"sales_date\")\n",
    "\n",
    "next_month_df = product_df.withColumn(\"previous_month_sales\",lead(col(\"sales\"),1).over(window))\n",
    "\n",
    "last_month_df.show()"
   ]
  },
  {
   "cell_type": "code",
   "execution_count": 0,
   "metadata": {
    "application/vnd.databricks.v1+cell": {
     "cellMetadata": {
      "byteLimit": 2048000,
      "rowLimit": 10000
     },
     "inputWidgets": {},
     "nuid": "dbd0bd06-82ff-4999-992f-56441e703005",
     "showTitle": false,
     "tableResultSettingsMap": {},
     "title": ""
    }
   },
   "outputs": [
    {
     "output_type": "stream",
     "name": "stdout",
     "output_type": "stream",
     "text": [
      "+----------+------------+----------+-------+--------------------+-------------+\n|product_id|product_name|sales_date|  sales|previous_month_sales|per_loss_gain|\n+----------+------------+----------+-------+--------------------+-------------+\n|         1|      iphone|01-01-2023|1500000|                null|         null|\n|         1|      iphone|01-02-2023|1300000|             1500000|      -200000|\n|         1|      iphone|01-03-2023|1600000|             1300000|       300000|\n|         1|      iphone|01-04-2023|1700000|             1600000|       100000|\n|         1|      iphone|01-05-2023|1200000|             1700000|      -500000|\n|         1|      iphone|01-06-2023|1100000|             1200000|      -100000|\n|         2|     samsung|01-01-2023|1100000|                null|         null|\n|         2|     samsung|01-02-2023|1120000|             1100000|        20000|\n|         2|     samsung|01-03-2023|1080000|             1120000|       -40000|\n|         2|     samsung|01-04-2023|1800000|             1080000|       720000|\n|         2|     samsung|01-05-2023| 980000|             1800000|      -820000|\n|         2|     samsung|01-06-2023|1100000|              980000|       120000|\n|         3|     oneplus|01-01-2023|1100000|                null|         null|\n|         3|     oneplus|01-02-2023|1120000|             1100000|        20000|\n|         3|     oneplus|01-03-2023|1160000|             1120000|        40000|\n|         3|     oneplus|01-04-2023|1170000|             1160000|        10000|\n|         3|     oneplus|01-05-2023|1175000|             1170000|         5000|\n|         3|     oneplus|01-06-2023|1200000|             1175000|        25000|\n+----------+------------+----------+-------+--------------------+-------------+\n\n"
     ]
    }
   ],
   "source": [
    "last_month_df.withColumn('per_loss_gain',col(\"sales\") - col(\"previous_month_sales\")).show()"
   ]
  },
  {
   "cell_type": "code",
   "execution_count": 0,
   "metadata": {
    "application/vnd.databricks.v1+cell": {
     "cellMetadata": {
      "byteLimit": 2048000,
      "rowLimit": 10000
     },
     "inputWidgets": {},
     "nuid": "d86ed6e5-7797-4736-9c4f-b9ef8e9d4cc7",
     "showTitle": false,
     "tableResultSettingsMap": {},
     "title": ""
    }
   },
   "outputs": [
    {
     "output_type": "stream",
     "name": "stdout",
     "output_type": "stream",
     "text": [
      "+----------+------------+----------+-------+--------------------+-------------+\n|product_id|product_name|sales_date|  sales|previous_month_sales|per_loss_gain|\n+----------+------------+----------+-------+--------------------+-------------+\n|         1|      iphone|01-01-2023|1500000|                null|         null|\n|         1|      iphone|01-02-2023|1300000|             1500000|       -15.38|\n|         1|      iphone|01-03-2023|1600000|             1300000|        18.75|\n|         1|      iphone|01-04-2023|1700000|             1600000|         5.88|\n|         1|      iphone|01-05-2023|1200000|             1700000|       -41.67|\n|         1|      iphone|01-06-2023|1100000|             1200000|        -9.09|\n|         2|     samsung|01-01-2023|1100000|                null|         null|\n|         2|     samsung|01-02-2023|1120000|             1100000|         1.79|\n|         2|     samsung|01-03-2023|1080000|             1120000|         -3.7|\n|         2|     samsung|01-04-2023|1800000|             1080000|         40.0|\n|         2|     samsung|01-05-2023| 980000|             1800000|       -83.67|\n|         2|     samsung|01-06-2023|1100000|              980000|        10.91|\n|         3|     oneplus|01-01-2023|1100000|                null|         null|\n|         3|     oneplus|01-02-2023|1120000|             1100000|         1.79|\n|         3|     oneplus|01-03-2023|1160000|             1120000|         3.45|\n|         3|     oneplus|01-04-2023|1170000|             1160000|         0.85|\n|         3|     oneplus|01-05-2023|1175000|             1170000|         0.43|\n|         3|     oneplus|01-06-2023|1200000|             1175000|         2.08|\n+----------+------------+----------+-------+--------------------+-------------+\n\n"
     ]
    }
   ],
   "source": [
    "last_month_df.withColumn('per_loss_gain',round(((col(\"sales\") - col(\"previous_month_sales\"))/col('sales'))*100,2)).show()"
   ]
  },
  {
   "cell_type": "code",
   "execution_count": 0,
   "metadata": {
    "application/vnd.databricks.v1+cell": {
     "cellMetadata": {
      "byteLimit": 2048000,
      "rowLimit": 10000
     },
     "inputWidgets": {},
     "nuid": "81116273-56af-4c21-968a-0d64f00dbb93",
     "showTitle": false,
     "tableResultSettingsMap": {},
     "title": ""
    }
   },
   "outputs": [
    {
     "output_type": "stream",
     "name": "stdout",
     "output_type": "stream",
     "text": [
      "+----------+------------+----------+-------+------------------------------+---------------------+\n|product_id|product_name|sales_date|  sales|previous_six_month_total_sales|perc_sales_each_month|\n+----------+------------+----------+-------+------------------------------+---------------------+\n|         1|      iphone|01-01-2023|1500000|                       8400000|                17.86|\n|         1|      iphone|01-02-2023|1300000|                       8400000|                15.48|\n|         1|      iphone|01-03-2023|1600000|                       8400000|                19.05|\n|         1|      iphone|01-04-2023|1700000|                       8400000|                20.24|\n|         1|      iphone|01-05-2023|1200000|                       8400000|                14.29|\n|         1|      iphone|01-06-2023|1100000|                       8400000|                 13.1|\n|         2|     samsung|01-01-2023|1100000|                       7180000|                15.32|\n|         2|     samsung|01-02-2023|1120000|                       7180000|                 15.6|\n|         2|     samsung|01-03-2023|1080000|                       7180000|                15.04|\n|         2|     samsung|01-04-2023|1800000|                       7180000|                25.07|\n|         2|     samsung|01-05-2023| 980000|                       7180000|                13.65|\n|         2|     samsung|01-06-2023|1100000|                       7180000|                15.32|\n|         3|     oneplus|01-01-2023|1100000|                       6925000|                15.88|\n|         3|     oneplus|01-02-2023|1120000|                       6925000|                16.17|\n|         3|     oneplus|01-03-2023|1160000|                       6925000|                16.75|\n|         3|     oneplus|01-04-2023|1170000|                       6925000|                 16.9|\n|         3|     oneplus|01-05-2023|1175000|                       6925000|                16.97|\n|         3|     oneplus|01-06-2023|1200000|                       6925000|                17.33|\n+----------+------------+----------+-------+------------------------------+---------------------+\n\n"
     ]
    }
   ],
   "source": [
    "#Q1. what is the %age of sales each month based on last 6 month sales.\n",
    "window = Window.partitionBy(\"product_id\")\n",
    "last_six_month_df = product_df.withColumn(\"previous_six_month_total_sales\", sum(\"sales\").over(window))\\\n",
    "    .withColumn(\"perc_sales_each_month\", round((col(\"sales\")/col(\"previous_six_month_total_sales\")) * 100, 2) )\n",
    "last_six_month_df.show()"
   ]
  },
  {
   "cell_type": "markdown",
   "metadata": {
    "application/vnd.databricks.v1+cell": {
     "cellMetadata": {
      "byteLimit": 2048000,
      "rowLimit": 10000
     },
     "inputWidgets": {},
     "nuid": "cf89adbc-1adf-4e86-a1a3-9e8995a9cf38",
     "showTitle": false,
     "tableResultSettingsMap": {},
     "title": ""
    }
   },
   "source": [
    "### First and Last in Spark"
   ]
  },
  {
   "cell_type": "code",
   "execution_count": 0,
   "metadata": {
    "application/vnd.databricks.v1+cell": {
     "cellMetadata": {
      "byteLimit": 2048000,
      "rowLimit": 10000
     },
     "inputWidgets": {},
     "nuid": "d9c66015-d89c-4c7d-9594-187ec8e7194c",
     "showTitle": false,
     "tableResultSettingsMap": {},
     "title": ""
    }
   },
   "outputs": [],
   "source": [
    "from pyspark.sql.functions import *\n",
    "from pyspark.sql.window import Window\n",
    "from pyspark.sql.types import *"
   ]
  },
  {
   "cell_type": "code",
   "execution_count": 0,
   "metadata": {
    "application/vnd.databricks.v1+cell": {
     "cellMetadata": {
      "byteLimit": 2048000,
      "rowLimit": 10000
     },
     "inputWidgets": {},
     "nuid": "100620cc-5f4a-4948-8f34-0b8bd21b0432",
     "showTitle": false,
     "tableResultSettingsMap": {},
     "title": ""
    }
   },
   "outputs": [
    {
     "output_type": "stream",
     "name": "stdout",
     "output_type": "stream",
     "text": [
      "+----------+------------+----------+-------+\n|product_id|product_name|sales_date|  sales|\n+----------+------------+----------+-------+\n|         2|     samsung|01-01-1995|  11000|\n|         1|      iphone|01-02-2023|1300000|\n|         2|     samsung|01-02-2023|1120000|\n|         3|     oneplus|01-02-2023|1120000|\n|         1|      iphone|01-03-2023|1600000|\n|         2|     samsung|01-03-2023|1080000|\n|         3|     oneplus|01-03-2023|1160000|\n|         1|      iphone|01-01-2006|  15000|\n|         1|      iphone|01-04-2023|1700000|\n|         2|     samsung|01-04-2023|1800000|\n|         3|     oneplus|01-04-2023|1170000|\n|         1|      iphone|01-05-2023|1200000|\n|         2|     samsung|01-05-2023| 980000|\n|         3|     oneplus|01-05-2023|1175000|\n|         1|      iphone|01-06-2023|1100000|\n|         3|     oneplus|01-01-2010|  23000|\n|         2|     samsung|01-06-2023|1100000|\n|         3|     oneplus|01-06-2023|1200000|\n+----------+------------+----------+-------+\n\n"
     ]
    }
   ],
   "source": [
    "# question - find out difference in sales of each product from their first month sales to latest sales?\n",
    "product_data = [\n",
    "(2,\"samsung\",\"01-01-1995\",11000),\n",
    "(1,\"iphone\",\"01-02-2023\",1300000),\n",
    "(2,\"samsung\",\"01-02-2023\",1120000),\n",
    "(3,\"oneplus\",\"01-02-2023\",1120000),\n",
    "(1,\"iphone\",\"01-03-2023\",1600000),\n",
    "(2,\"samsung\",\"01-03-2023\",1080000),\n",
    "(3,\"oneplus\",\"01-03-2023\",1160000),\n",
    "(1,\"iphone\",\"01-01-2006\",15000),\n",
    "(1,\"iphone\",\"01-04-2023\",1700000),\n",
    "(2,\"samsung\",\"01-04-2023\",1800000),\n",
    "(3,\"oneplus\",\"01-04-2023\",1170000),\n",
    "(1,\"iphone\",\"01-05-2023\",1200000),\n",
    "(2,\"samsung\",\"01-05-2023\",980000),\n",
    "(3,\"oneplus\",\"01-05-2023\",1175000),\n",
    "(1,\"iphone\",\"01-06-2023\",1100000),\n",
    "(3,\"oneplus\",\"01-01-2010\",23000),\n",
    "(2,\"samsung\",\"01-06-2023\",1100000),\n",
    "(3,\"oneplus\",\"01-06-2023\",1200000)\n",
    "]\n",
    "\n",
    "\n",
    "product_schema = ['product_id','product_name','sales_date','sales']\n",
    "\n",
    "product_df = spark.createDataFrame(data=product_data, schema=product_schema)\n",
    "\n",
    "product_df.show()"
   ]
  },
  {
   "cell_type": "markdown",
   "metadata": {
    "application/vnd.databricks.v1+cell": {
     "cellMetadata": {
      "byteLimit": 2048000,
      "rowLimit": 10000
     },
     "inputWidgets": {},
     "nuid": "bb614029-dc63-4226-b72d-5ade9af6e245",
     "showTitle": false,
     "tableResultSettingsMap": {},
     "title": ""
    }
   },
   "source": [
    "### Unbounded preceding & Unbounded following"
   ]
  },
  {
   "cell_type": "code",
   "execution_count": 0,
   "metadata": {
    "application/vnd.databricks.v1+cell": {
     "cellMetadata": {
      "byteLimit": 2048000,
      "rowLimit": 10000
     },
     "inputWidgets": {},
     "nuid": "1d2b9dd2-1429-4794-90c0-e9e996ae1ad1",
     "showTitle": false,
     "tableResultSettingsMap": {},
     "title": ""
    }
   },
   "outputs": [],
   "source": [
    "window = Window.partitionBy(\"product_id\").orderBy(\"sales_date\")\\\n",
    "    .rowsBetween(Window.unboundedPreceding,Window.unboundedFollowing)"
   ]
  },
  {
   "cell_type": "code",
   "execution_count": 0,
   "metadata": {
    "application/vnd.databricks.v1+cell": {
     "cellMetadata": {
      "byteLimit": 2048000,
      "rowLimit": 10000
     },
     "inputWidgets": {},
     "nuid": "470c92e6-fe81-46dc-a2f3-f72138245564",
     "showTitle": false,
     "tableResultSettingsMap": {},
     "title": ""
    }
   },
   "outputs": [
    {
     "output_type": "stream",
     "name": "stdout",
     "output_type": "stream",
     "text": [
      "== Physical Plan ==\nAdaptiveSparkPlan isFinalPlan=false\n+- Window [product_id#828L, product_name#829, sales_date#830, sales#831L, first(sales#831L, false) windowspecdefinition(product_id#828L, sales_date#830 ASC NULLS FIRST, specifiedwindowframe(RowFrame, unboundedpreceding$(), unboundedfollowing$())) AS first_sales#854L, last(sales#831L, false) windowspecdefinition(product_id#828L, sales_date#830 ASC NULLS FIRST, specifiedwindowframe(RowFrame, unboundedpreceding$(), unboundedfollowing$())) AS last_sales#861L], [product_id#828L], [sales_date#830 ASC NULLS FIRST]\n   +- Sort [product_id#828L ASC NULLS FIRST, sales_date#830 ASC NULLS FIRST], false, 0\n      +- Exchange hashpartitioning(product_id#828L, 200), ENSURE_REQUIREMENTS, [plan_id=1053]\n         +- Scan ExistingRDD[product_id#828L,product_name#829,sales_date#830,sales#831L]\n\n\n"
     ]
    }
   ],
   "source": [
    "product_df.withColumn(\"first_sales\",first(\"sales\").over(window))\\\n",
    "    .withColumn(\"last_sales\",last(\"sales\").over(window)).explain()"
   ]
  },
  {
   "cell_type": "code",
   "execution_count": 0,
   "metadata": {
    "application/vnd.databricks.v1+cell": {
     "cellMetadata": {
      "byteLimit": 2048000,
      "rowLimit": 10000
     },
     "inputWidgets": {},
     "nuid": "c68d738c-67b2-4a93-bab0-61b28b01238c",
     "showTitle": false,
     "tableResultSettingsMap": {},
     "title": ""
    }
   },
   "outputs": [
    {
     "output_type": "stream",
     "name": "stdout",
     "output_type": "stream",
     "text": [
      "+----------+------------+----------+-------+-----------+----------+\n|product_id|product_name|sales_date|  sales|first_sales|last_sales|\n+----------+------------+----------+-------+-----------+----------+\n|         1|      iphone|01-01-2006|  15000|      15000|   1100000|\n|         1|      iphone|01-02-2023|1300000|      15000|   1100000|\n|         1|      iphone|01-03-2023|1600000|      15000|   1100000|\n|         1|      iphone|01-04-2023|1700000|      15000|   1100000|\n|         1|      iphone|01-05-2023|1200000|      15000|   1100000|\n|         1|      iphone|01-06-2023|1100000|      15000|   1100000|\n|         2|     samsung|01-01-1995|  11000|      11000|   1100000|\n|         2|     samsung|01-02-2023|1120000|      11000|   1100000|\n|         2|     samsung|01-03-2023|1080000|      11000|   1100000|\n|         2|     samsung|01-04-2023|1800000|      11000|   1100000|\n|         2|     samsung|01-05-2023| 980000|      11000|   1100000|\n|         2|     samsung|01-06-2023|1100000|      11000|   1100000|\n|         3|     oneplus|01-01-2010|  23000|      23000|   1200000|\n|         3|     oneplus|01-02-2023|1120000|      23000|   1200000|\n|         3|     oneplus|01-03-2023|1160000|      23000|   1200000|\n|         3|     oneplus|01-04-2023|1170000|      23000|   1200000|\n|         3|     oneplus|01-05-2023|1175000|      23000|   1200000|\n|         3|     oneplus|01-06-2023|1200000|      23000|   1200000|\n+----------+------------+----------+-------+-----------+----------+\n\n"
     ]
    }
   ],
   "source": [
    "product_df.withColumn(\"first_sales\",first(\"sales\").over(window))\\\n",
    "    .withColumn(\"last_sales\",last(\"sales\").over(window)).show()"
   ]
  },
  {
   "cell_type": "code",
   "execution_count": 0,
   "metadata": {
    "application/vnd.databricks.v1+cell": {
     "cellMetadata": {
      "byteLimit": 2048000,
      "rowLimit": 10000
     },
     "inputWidgets": {},
     "nuid": "3698f1bb-911b-47d2-834c-a1a54c6d65b0",
     "showTitle": false,
     "tableResultSettingsMap": {},
     "title": ""
    }
   },
   "outputs": [
    {
     "output_type": "stream",
     "name": "stdout",
     "output_type": "stream",
     "text": [
      "+---+------+----------+-----+\n| id|  name|      date| time|\n+---+------+----------+-----+\n|  1|manish|11-07-2023|10:20|\n|  1|manish|11-07-2023|11:20|\n|  2|rajesh|11-07-2023|11:20|\n|  1|manish|11-07-2023|11:50|\n|  2|rajesh|11-07-2023|13:20|\n|  1|manish|11-07-2023|19:20|\n|  2|rajesh|11-07-2023|17:20|\n|  1|manish|12-07-2023|10:32|\n|  1|manish|12-07-2023|12:20|\n|  3|vikash|12-07-2023|09:12|\n|  1|manish|12-07-2023|16:23|\n|  3|vikash|12-07-2023|18:08|\n+---+------+----------+-----+\n\n"
     ]
    }
   ],
   "source": [
    "# question - send a mail to employee who all have not completed 8 hours in office when they comes to office\n",
    "emp_data = [(1,\"manish\",\"11-07-2023\",\"10:20\"),\n",
    "        (1,\"manish\",\"11-07-2023\",\"11:20\"),\n",
    "        (2,\"rajesh\",\"11-07-2023\",\"11:20\"),\n",
    "        (1,\"manish\",\"11-07-2023\",\"11:50\"),\n",
    "        (2,\"rajesh\",\"11-07-2023\",\"13:20\"),\n",
    "        (1,\"manish\",\"11-07-2023\",\"19:20\"),\n",
    "        (2,\"rajesh\",\"11-07-2023\",\"17:20\"),\n",
    "        (1,\"manish\",\"12-07-2023\",\"10:32\"),\n",
    "        (1,\"manish\",\"12-07-2023\",\"12:20\"),\n",
    "        (3,\"vikash\",\"12-07-2023\",\"09:12\"),\n",
    "        (1,\"manish\",\"12-07-2023\",\"16:23\"),\n",
    "        (3,\"vikash\",\"12-07-2023\",\"18:08\")]\n",
    "\n",
    "emp_schema = [\"id\", \"name\", \"date\", \"time\"]\n",
    "emp_df = spark.createDataFrame(data=emp_data, schema=emp_schema)\n",
    "\n",
    "emp_df.show()"
   ]
  },
  {
   "cell_type": "code",
   "execution_count": 0,
   "metadata": {
    "application/vnd.databricks.v1+cell": {
     "cellMetadata": {
      "byteLimit": 2048000,
      "rowLimit": 10000
     },
     "inputWidgets": {},
     "nuid": "b8c34232-e913-4b52-9e3b-1489eadd6944",
     "showTitle": false,
     "tableResultSettingsMap": {},
     "title": ""
    }
   },
   "outputs": [],
   "source": [
    "emp_df = emp_df.withColumn(\"timestamp\",\n",
    "                           from_unixtime(unix_timestamp(expr(\"CONCAT(date,' ',time)\"),\"dd-MM-yyyy HH:mm\")))"
   ]
  },
  {
   "cell_type": "code",
   "execution_count": 0,
   "metadata": {
    "application/vnd.databricks.v1+cell": {
     "cellMetadata": {
      "byteLimit": 2048000,
      "rowLimit": 10000
     },
     "inputWidgets": {},
     "nuid": "621194e5-1717-4515-9bcc-4513a483a62f",
     "showTitle": false,
     "tableResultSettingsMap": {},
     "title": ""
    }
   },
   "outputs": [
    {
     "output_type": "stream",
     "name": "stdout",
     "output_type": "stream",
     "text": [
      "+---+------+----------+-----+-------------------+\n| id|  name|      date| time|          timestamp|\n+---+------+----------+-----+-------------------+\n|  1|manish|11-07-2023|10:20|2023-07-11 10:20:00|\n|  1|manish|11-07-2023|11:20|2023-07-11 11:20:00|\n|  2|rajesh|11-07-2023|11:20|2023-07-11 11:20:00|\n|  1|manish|11-07-2023|11:50|2023-07-11 11:50:00|\n|  2|rajesh|11-07-2023|13:20|2023-07-11 13:20:00|\n|  1|manish|11-07-2023|19:20|2023-07-11 19:20:00|\n|  2|rajesh|11-07-2023|17:20|2023-07-11 17:20:00|\n|  1|manish|12-07-2023|10:32|2023-07-12 10:32:00|\n|  1|manish|12-07-2023|12:20|2023-07-12 12:20:00|\n|  3|vikash|12-07-2023|09:12|2023-07-12 09:12:00|\n|  1|manish|12-07-2023|16:23|2023-07-12 16:23:00|\n|  3|vikash|12-07-2023|18:08|2023-07-12 18:08:00|\n+---+------+----------+-----+-------------------+\n\n"
     ]
    }
   ],
   "source": [
    "emp_df.show()"
   ]
  },
  {
   "cell_type": "code",
   "execution_count": 0,
   "metadata": {
    "application/vnd.databricks.v1+cell": {
     "cellMetadata": {
      "byteLimit": 2048000,
      "rowLimit": 10000
     },
     "inputWidgets": {},
     "nuid": "c590a31f-ffd0-496e-9b6a-beaf55bc5698",
     "showTitle": false,
     "tableResultSettingsMap": {},
     "title": ""
    }
   },
   "outputs": [],
   "source": [
    "window = Window.partitionBy(\"id\",\"date\").orderBy(\"date\").rowsBetween(Window.unboundedPreceding, Window.unboundedFollowing)"
   ]
  },
  {
   "cell_type": "code",
   "execution_count": 0,
   "metadata": {
    "application/vnd.databricks.v1+cell": {
     "cellMetadata": {
      "byteLimit": 2048000,
      "rowLimit": 10000
     },
     "inputWidgets": {},
     "nuid": "e209fc99-4b65-41f6-bd4e-435d4eff2548",
     "showTitle": false,
     "tableResultSettingsMap": {},
     "title": ""
    }
   },
   "outputs": [
    {
     "output_type": "stream",
     "name": "stdout",
     "output_type": "stream",
     "text": [
      "+---+------+----------+-----+-------------------+-------------------+-------------------+--------------------+\n| id|  name|      date| time|          timestamp|              login|             logout|          total_time|\n+---+------+----------+-----+-------------------+-------------------+-------------------+--------------------+\n|  1|manish|11-07-2023|10:20|2023-07-11 10:20:00|2023-07-11 10:20:00|2023-07-11 19:20:00|INTERVAL '0 09:00...|\n|  1|manish|11-07-2023|11:20|2023-07-11 11:20:00|2023-07-11 10:20:00|2023-07-11 19:20:00|INTERVAL '0 09:00...|\n|  1|manish|11-07-2023|11:50|2023-07-11 11:50:00|2023-07-11 10:20:00|2023-07-11 19:20:00|INTERVAL '0 09:00...|\n|  1|manish|11-07-2023|19:20|2023-07-11 19:20:00|2023-07-11 10:20:00|2023-07-11 19:20:00|INTERVAL '0 09:00...|\n|  1|manish|12-07-2023|10:32|2023-07-12 10:32:00|2023-07-12 10:32:00|2023-07-12 16:23:00|INTERVAL '0 05:51...|\n|  1|manish|12-07-2023|12:20|2023-07-12 12:20:00|2023-07-12 10:32:00|2023-07-12 16:23:00|INTERVAL '0 05:51...|\n|  1|manish|12-07-2023|16:23|2023-07-12 16:23:00|2023-07-12 10:32:00|2023-07-12 16:23:00|INTERVAL '0 05:51...|\n|  2|rajesh|11-07-2023|11:20|2023-07-11 11:20:00|2023-07-11 11:20:00|2023-07-11 17:20:00|INTERVAL '0 06:00...|\n|  2|rajesh|11-07-2023|13:20|2023-07-11 13:20:00|2023-07-11 11:20:00|2023-07-11 17:20:00|INTERVAL '0 06:00...|\n|  2|rajesh|11-07-2023|17:20|2023-07-11 17:20:00|2023-07-11 11:20:00|2023-07-11 17:20:00|INTERVAL '0 06:00...|\n|  3|vikash|12-07-2023|09:12|2023-07-12 09:12:00|2023-07-12 09:12:00|2023-07-12 18:08:00|INTERVAL '0 08:56...|\n|  3|vikash|12-07-2023|18:08|2023-07-12 18:08:00|2023-07-12 09:12:00|2023-07-12 18:08:00|INTERVAL '0 08:56...|\n+---+------+----------+-----+-------------------+-------------------+-------------------+--------------------+\n\n"
     ]
    }
   ],
   "source": [
    "new_df = emp_df.withColumn(\"login\",first(\"timestamp\").over(window))\\\n",
    "    .withColumn(\"logout\",last(\"timestamp\").over(window))\\\n",
    "        .withColumn(\"login\",to_timestamp(\"login\",\"yyyy-MM-dd HH:mm:ss\"))\\\n",
    "            .withColumn(\"logout\",to_timestamp(\"logout\",\"yyyy-MM-dd HH:mm:ss\"))\\\n",
    "                .withColumn(\"total_time\",col(\"logout\")-col(\"login\")).show()"
   ]
  },
  {
   "cell_type": "markdown",
   "metadata": {
    "application/vnd.databricks.v1+cell": {
     "cellMetadata": {
      "byteLimit": 2048000,
      "rowLimit": 10000
     },
     "inputWidgets": {},
     "nuid": "4415246a-fd65-4bb6-b3fa-d678e73b2a6e",
     "showTitle": false,
     "tableResultSettingsMap": {},
     "title": ""
    }
   },
   "source": [
    "### Running sales/ cumulative sales"
   ]
  },
  {
   "cell_type": "code",
   "execution_count": 0,
   "metadata": {
    "application/vnd.databricks.v1+cell": {
     "cellMetadata": {
      "byteLimit": 2048000,
      "rowLimit": 10000
     },
     "inputWidgets": {},
     "nuid": "cfe15e31-67bc-44e9-8267-8601620353a6",
     "showTitle": false,
     "tableResultSettingsMap": {},
     "title": ""
    }
   },
   "outputs": [],
   "source": [
    "# question - Find out performance of the sales based on last 3 months average\n",
    "\n",
    "product_data = [\n",
    "(1,\"iphone\",\"01-01-2023\",1500000),\n",
    "(2,\"samsung\",\"01-01-2023\",1100000),\n",
    "(3,\"oneplus\",\"01-01-2023\",1100000),\n",
    "(1,\"iphone\",\"01-02-2023\",1300000),\n",
    "(2,\"samsung\",\"01-02-2023\",1120000),\n",
    "(3,\"oneplus\",\"01-02-2023\",1120000),\n",
    "(1,\"iphone\",\"01-03-2023\",1600000),\n",
    "(2,\"samsung\",\"01-03-2023\",1080000),\n",
    "(3,\"oneplus\",\"01-03-2023\",1160000),\n",
    "(1,\"iphone\",\"01-04-2023\",1700000),\n",
    "(2,\"samsung\",\"01-04-2023\",1800000),\n",
    "(3,\"oneplus\",\"01-04-2023\",1170000),\n",
    "(1,\"iphone\",\"01-05-2023\",1200000),\n",
    "(2,\"samsung\",\"01-05-2023\",980000),\n",
    "(3,\"oneplus\",\"01-05-2023\",1175000),\n",
    "(1,\"iphone\",\"01-06-2023\",1100000),\n",
    "(2,\"samsung\",\"01-06-2023\",1100000),\n",
    "(3,\"oneplus\",\"01-06-2023\",1200000)\n",
    "]\n",
    "\n",
    "product_schema=[\"product_id\",\"product_name\",\"sales_date\",\"sales\"]\n",
    "\n",
    "product_df = spark.createDataFrame(data=product_data,schema=product_schema)"
   ]
  },
  {
   "cell_type": "code",
   "execution_count": 0,
   "metadata": {
    "application/vnd.databricks.v1+cell": {
     "cellMetadata": {
      "byteLimit": 2048000,
      "rowLimit": 10000
     },
     "inputWidgets": {},
     "nuid": "ed16b4e1-dc2e-4d24-9540-e1128bdcd5d1",
     "showTitle": false,
     "tableResultSettingsMap": {},
     "title": ""
    }
   },
   "outputs": [
    {
     "output_type": "stream",
     "name": "stdout",
     "output_type": "stream",
     "text": [
      "+----------+------------+----------+-------+\n|product_id|product_name|sales_date|  sales|\n+----------+------------+----------+-------+\n|         1|      iphone|01-01-2023|1500000|\n|         2|     samsung|01-01-2023|1100000|\n|         3|     oneplus|01-01-2023|1100000|\n|         1|      iphone|01-02-2023|1300000|\n|         2|     samsung|01-02-2023|1120000|\n|         3|     oneplus|01-02-2023|1120000|\n|         1|      iphone|01-03-2023|1600000|\n|         2|     samsung|01-03-2023|1080000|\n|         3|     oneplus|01-03-2023|1160000|\n|         1|      iphone|01-04-2023|1700000|\n|         2|     samsung|01-04-2023|1800000|\n|         3|     oneplus|01-04-2023|1170000|\n|         1|      iphone|01-05-2023|1200000|\n|         2|     samsung|01-05-2023| 980000|\n|         3|     oneplus|01-05-2023|1175000|\n|         1|      iphone|01-06-2023|1100000|\n|         2|     samsung|01-06-2023|1100000|\n|         3|     oneplus|01-06-2023|1200000|\n+----------+------------+----------+-------+\n\n"
     ]
    }
   ],
   "source": [
    "product_df.show()"
   ]
  },
  {
   "cell_type": "code",
   "execution_count": 0,
   "metadata": {
    "application/vnd.databricks.v1+cell": {
     "cellMetadata": {
      "byteLimit": 2048000,
      "rowLimit": 10000
     },
     "inputWidgets": {},
     "nuid": "e14bf043-7b19-4469-9ad7-d0272cd7601e",
     "showTitle": false,
     "tableResultSettingsMap": {},
     "title": ""
    }
   },
   "outputs": [],
   "source": [
    "window = Window.partitionBy(\"product_id\").orderBy(\"sales_date\").rowsBetween(-2,0)\n",
    "window1 = Window.partitionBy(\"product_id\").orderBy(\"sales_date\")"
   ]
  },
  {
   "cell_type": "code",
   "execution_count": 0,
   "metadata": {
    "application/vnd.databricks.v1+cell": {
     "cellMetadata": {
      "byteLimit": 2048000,
      "rowLimit": 10000
     },
     "inputWidgets": {},
     "nuid": "6f7a1f99-6bf1-477e-8f99-5470299590c6",
     "showTitle": false,
     "tableResultSettingsMap": {},
     "title": ""
    }
   },
   "outputs": [
    {
     "output_type": "stream",
     "name": "stdout",
     "output_type": "stream",
     "text": [
      "+----------+------------+----------+-------+-----------+----------+-------------+\n|product_id|product_name|sales_date|  sales|running_sum|row_number|average_sales|\n+----------+------------+----------+-------+-----------+----------+-------------+\n|         1|      iphone|01-03-2023|1600000|    4400000|         3|   1466666.67|\n|         1|      iphone|01-04-2023|1700000|    4600000|         4|   1533333.33|\n|         1|      iphone|01-05-2023|1200000|    4500000|         5|    1500000.0|\n|         1|      iphone|01-06-2023|1100000|    4000000|         6|   1333333.33|\n|         2|     samsung|01-03-2023|1080000|    3300000|         3|    1100000.0|\n|         2|     samsung|01-04-2023|1800000|    4000000|         4|   1333333.33|\n|         2|     samsung|01-05-2023| 980000|    3860000|         5|   1286666.67|\n|         2|     samsung|01-06-2023|1100000|    3880000|         6|   1293333.33|\n|         3|     oneplus|01-03-2023|1160000|    3380000|         3|   1126666.67|\n|         3|     oneplus|01-04-2023|1170000|    3450000|         4|    1150000.0|\n|         3|     oneplus|01-05-2023|1175000|    3505000|         5|   1168333.33|\n|         3|     oneplus|01-06-2023|1200000|    3545000|         6|   1181666.67|\n+----------+------------+----------+-------+-----------+----------+-------------+\n\n"
     ]
    }
   ],
   "source": [
    "product_df.withColumn(\"running_sum\",sum(\"sales\").over(window))\\\n",
    "    .withColumn(\"row_number\",row_number().over(window1))\\\n",
    "    .filter(col('row_number')>2)\\\n",
    "    .withColumn(\"average_sales\",round((col(\"running_sum\")/3),2))\\\n",
    "    .show()"
   ]
  },
  {
   "cell_type": "markdown",
   "metadata": {
    "application/vnd.databricks.v1+cell": {
     "cellMetadata": {},
     "inputWidgets": {},
     "nuid": "262e74ce-a17f-444f-8751-e49b06a2bb46",
     "showTitle": false,
     "tableResultSettingsMap": {},
     "title": ""
    }
   },
   "source": [
    "### Rows Between"
   ]
  },
  {
   "cell_type": "code",
   "execution_count": 0,
   "metadata": {
    "application/vnd.databricks.v1+cell": {
     "cellMetadata": {
      "byteLimit": 2048000,
      "rowLimit": 10000
     },
     "inputWidgets": {},
     "nuid": "dae0bf9f-cfcf-4f90-8b17-70fd34331804",
     "showTitle": false,
     "tableResultSettingsMap": {},
     "title": ""
    }
   },
   "outputs": [],
   "source": [
    "\n",
    "product_data = [\n",
    "(1,\"iphone\",\"01-01-2023\",1500000),\n",
    "(2,\"samsung\",\"01-01-2023\",1100000),\n",
    "(3,\"oneplus\",\"01-01-2023\",1100000),\n",
    "(1,\"iphone\",\"01-02-2023\",1300000),\n",
    "(2,\"samsung\",\"01-02-2023\",1120000),\n",
    "(3,\"oneplus\",\"01-02-2023\",1120000),\n",
    "(1,\"iphone\",\"01-03-2023\",1600000),\n",
    "(2,\"samsung\",\"01-03-2023\",1080000),\n",
    "(3,\"oneplus\",\"01-03-2023\",1160000),\n",
    "(1,\"iphone\",\"01-04-2023\",1700000),\n",
    "(2,\"samsung\",\"01-04-2023\",1800000),\n",
    "(3,\"oneplus\",\"01-04-2023\",1170000),\n",
    "(1,\"iphone\",\"01-05-2023\",1200000),\n",
    "(2,\"samsung\",\"01-05-2023\",980000),\n",
    "(3,\"oneplus\",\"01-05-2023\",1175000),\n",
    "(1,\"iphone\",\"01-06-2023\",1100000),\n",
    "(2,\"samsung\",\"01-06-2023\",1100000),\n",
    "(3,\"oneplus\",\"01-06-2023\",1200000)\n",
    "]\n",
    "\n",
    "product_schema=[\"product_id\",\"product_name\",\"sales_date\",\"sales\"]\n",
    "\n",
    "product_df = spark.createDataFrame(data=product_data,schema=product_schema)"
   ]
  },
  {
   "cell_type": "code",
   "execution_count": 0,
   "metadata": {
    "application/vnd.databricks.v1+cell": {
     "cellMetadata": {
      "byteLimit": 2048000,
      "rowLimit": 10000
     },
     "inputWidgets": {},
     "nuid": "58e0c0eb-fee7-400e-a4cb-e149689d2ca1",
     "showTitle": false,
     "tableResultSettingsMap": {},
     "title": ""
    }
   },
   "outputs": [],
   "source": [
    "window_rows = Window.partitionBy(\"product_id\").orderBy(\"sales_date\").rowsBetween(-2,0)\n"
   ]
  },
  {
   "cell_type": "code",
   "execution_count": 0,
   "metadata": {
    "application/vnd.databricks.v1+cell": {
     "cellMetadata": {
      "byteLimit": 2048000,
      "rowLimit": 10000
     },
     "inputWidgets": {},
     "nuid": "23b6c688-f797-4de5-893f-e4356bc8c642",
     "showTitle": false,
     "tableResultSettingsMap": {},
     "title": ""
    }
   },
   "outputs": [],
   "source": [
    "# window_range = Window.partitionBy(\"product_id\").orderBy(\"sales_date\").rangeBetween(Window.currentRow, 1)\n"
   ]
  },
  {
   "cell_type": "code",
   "execution_count": 0,
   "metadata": {
    "application/vnd.databricks.v1+cell": {
     "cellMetadata": {
      "byteLimit": 2048000,
      "rowLimit": 10000
     },
     "inputWidgets": {},
     "nuid": "9109a581-74eb-4ccf-bb00-74aca2233698",
     "showTitle": false,
     "tableResultSettingsMap": {},
     "title": ""
    }
   },
   "outputs": [
    {
     "output_type": "stream",
     "name": "stdout",
     "output_type": "stream",
     "text": [
      "+----------+------------+----------+-------+----------------+\n|product_id|product_name|sales_date|  sales|running_sum_rows|\n+----------+------------+----------+-------+----------------+\n|         1|      iphone|01-01-2023|1500000|         1500000|\n|         1|      iphone|01-02-2023|1300000|         2800000|\n|         1|      iphone|01-03-2023|1600000|         4400000|\n|         1|      iphone|01-04-2023|1700000|         4600000|\n|         1|      iphone|01-05-2023|1200000|         4500000|\n|         1|      iphone|01-06-2023|1100000|         4000000|\n|         2|     samsung|01-01-2023|1100000|         1100000|\n|         2|     samsung|01-02-2023|1120000|         2220000|\n|         2|     samsung|01-03-2023|1080000|         3300000|\n|         2|     samsung|01-04-2023|1800000|         4000000|\n|         2|     samsung|01-05-2023| 980000|         3860000|\n|         2|     samsung|01-06-2023|1100000|         3880000|\n|         3|     oneplus|01-01-2023|1100000|         1100000|\n|         3|     oneplus|01-02-2023|1120000|         2220000|\n|         3|     oneplus|01-03-2023|1160000|         3380000|\n|         3|     oneplus|01-04-2023|1170000|         3450000|\n|         3|     oneplus|01-05-2023|1175000|         3505000|\n|         3|     oneplus|01-06-2023|1200000|         3545000|\n+----------+------------+----------+-------+----------------+\n\n"
     ]
    }
   ],
   "source": [
    "product_df.withColumn(\"running_sum_rows\", sum(\"sales\").over(window_rows)).show()"
   ]
  },
  {
   "cell_type": "code",
   "execution_count": 0,
   "metadata": {
    "application/vnd.databricks.v1+cell": {
     "cellMetadata": {
      "byteLimit": 2048000,
      "rowLimit": 10000
     },
     "inputWidgets": {},
     "nuid": "63d236de-ce62-4f75-bf0f-3762182f4014",
     "showTitle": false,
     "tableResultSettingsMap": {},
     "title": ""
    }
   },
   "outputs": [
    {
     "output_type": "stream",
     "name": "stdout",
     "output_type": "stream",
     "text": [
      "root\n |-- product_id: long (nullable = true)\n |-- product_name: string (nullable = true)\n |-- sales_date: string (nullable = true)\n |-- sales: long (nullable = true)\n\n"
     ]
    }
   ],
   "source": [
    "product_df.printSchema()"
   ]
  },
  {
   "cell_type": "code",
   "execution_count": 0,
   "metadata": {
    "application/vnd.databricks.v1+cell": {
     "cellMetadata": {
      "byteLimit": 2048000,
      "rowLimit": 10000
     },
     "inputWidgets": {},
     "nuid": "90410b50-bf62-4f84-bb92-918c9e48b012",
     "showTitle": false,
     "tableResultSettingsMap": {},
     "title": ""
    }
   },
   "outputs": [],
   "source": [
    "from pyspark.sql import functions as F\n",
    "# Convert 'sales_date' from string to date\n",
    "product_df = product_df.withColumn(\"sales_date\", F.to_date(F.col(\"sales_date\"), \"dd-MM-yyyy\"))\n"
   ]
  },
  {
   "cell_type": "code",
   "execution_count": 0,
   "metadata": {
    "application/vnd.databricks.v1+cell": {
     "cellMetadata": {
      "byteLimit": 2048000,
      "rowLimit": 10000
     },
     "inputWidgets": {},
     "nuid": "cc72406d-4443-4a89-acb8-87598fb2c1c0",
     "showTitle": false,
     "tableResultSettingsMap": {},
     "title": ""
    }
   },
   "outputs": [],
   "source": [
    "# Define a window with ROWS between the current row and the next row\n",
    "window_range = Window.partitionBy(\"product_id\").orderBy(\"sales_date\").rowsBetween(Window.currentRow, 1)\n"
   ]
  },
  {
   "cell_type": "code",
   "execution_count": 0,
   "metadata": {
    "application/vnd.databricks.v1+cell": {
     "cellMetadata": {
      "byteLimit": 2048000,
      "rowLimit": 10000
     },
     "inputWidgets": {},
     "nuid": "728effbb-19d9-430f-9b9a-8b0aeb89ab5c",
     "showTitle": false,
     "tableResultSettingsMap": {},
     "title": ""
    }
   },
   "outputs": [
    {
     "output_type": "stream",
     "name": "stdout",
     "output_type": "stream",
     "text": [
      "+----------+------------+----------+-------+----------------+\n|product_id|product_name|sales_date|  sales|running_sum_rows|\n+----------+------------+----------+-------+----------------+\n|         1|      iphone|2023-01-01|1500000|         2800000|\n|         1|      iphone|2023-02-01|1300000|         2900000|\n|         1|      iphone|2023-03-01|1600000|         3300000|\n|         1|      iphone|2023-04-01|1700000|         2900000|\n|         1|      iphone|2023-05-01|1200000|         2300000|\n|         1|      iphone|2023-06-01|1100000|         1100000|\n|         2|     samsung|2023-01-01|1100000|         2220000|\n|         2|     samsung|2023-02-01|1120000|         2200000|\n|         2|     samsung|2023-03-01|1080000|         2880000|\n|         2|     samsung|2023-04-01|1800000|         2780000|\n|         2|     samsung|2023-05-01| 980000|         2080000|\n|         2|     samsung|2023-06-01|1100000|         1100000|\n|         3|     oneplus|2023-01-01|1100000|         2220000|\n|         3|     oneplus|2023-02-01|1120000|         2280000|\n|         3|     oneplus|2023-03-01|1160000|         2330000|\n|         3|     oneplus|2023-04-01|1170000|         2345000|\n|         3|     oneplus|2023-05-01|1175000|         2375000|\n|         3|     oneplus|2023-06-01|1200000|         1200000|\n+----------+------------+----------+-------+----------------+\n\n"
     ]
    }
   ],
   "source": [
    "product_df.withColumn(\"running_sum_rows\", sum(\"sales\").over(window_range)).show()\n",
    "\n",
    "\n",
    "# Calculate the running sum of 'sales' for each product over the specified window\n",
    "# product_df.withColumn(\"running_sum_rows\", F.sum(\"sales\").over(window_range)).show()"
   ]
  },
  {
   "cell_type": "code",
   "execution_count": 0,
   "metadata": {
    "application/vnd.databricks.v1+cell": {
     "cellMetadata": {},
     "inputWidgets": {},
     "nuid": "9d029ee3-8955-4eda-b923-ae6881294203",
     "showTitle": false,
     "tableResultSettingsMap": {},
     "title": ""
    }
   },
   "outputs": [],
   "source": []
  }
 ],
 "metadata": {
  "application/vnd.databricks.v1+notebook": {
   "dashboards": [],
   "environmentMetadata": null,
   "language": "python",
   "notebookMetadata": {
    "pythonIndentUnit": 4
   },
   "notebookName": "window_function_masterclass",
   "widgets": {}
  }
 },
 "nbformat": 4,
 "nbformat_minor": 0
}
