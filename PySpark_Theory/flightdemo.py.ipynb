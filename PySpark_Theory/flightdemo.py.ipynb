{
 "cells": [
  {
   "cell_type": "code",
   "execution_count": 0,
   "metadata": {
    "application/vnd.databricks.v1+cell": {
     "cellMetadata": {
      "byteLimit": 2048000,
      "rowLimit": 10000
     },
     "inputWidgets": {},
     "nuid": "5bc1faea-4a6e-4e83-8647-71c83a4c6a08",
     "showTitle": false,
     "title": ""
    }
   },
   "outputs": [
    {
     "output_type": "stream",
     "name": "stdout",
     "output_type": "stream",
     "text": [
      "+-----------------+----------+\n|DEST_COUNTRY_NAME|sum(count)|\n+-----------------+----------+\n|    United States|        94|\n+-----------------+----------+\n\n"
     ]
    }
   ],
   "source": [
    "df = spark.read.format(\"csv\").option(\"header\",\"true\").option(\"inferSchema\",\"true\").load(\"dbfs:/FileStore/demo_folder/flight_data.csv\") #action - read(), inferSchema\n",
    "\n",
    "df_repartition = df.repartition(3) #wide transformation\n",
    "\n",
    "us_df = df.filter(df.DEST_COUNTRY_NAME == 'United States') #Narrow\n",
    "\n",
    "us_india_df = us_df.filter((df.ORIGIN_COUNTRY_NAME == 'India') | (df.ORIGIN_COUNTRY_NAME == 'Singapore')) #transformation\n",
    "\n",
    "total_flight_df = us_india_df.groupBy('DEST_COUNTRY_NAME').sum('count') # wide transformation\n",
    "\n",
    "total_flight_df.show() #action\n",
    "\n",
    "#every action will have one job and every job will have one DAG"
   ]
  },
  {
   "cell_type": "code",
   "execution_count": 0,
   "metadata": {
    "application/vnd.databricks.v1+cell": {
     "cellMetadata": {
      "byteLimit": 2048000,
      "rowLimit": 10000
     },
     "inputWidgets": {},
     "nuid": "37b9aa43-390f-445d-93a5-7ee4818b65f8",
     "showTitle": false,
     "title": ""
    }
   },
   "outputs": [
    {
     "output_type": "stream",
     "name": "stdout",
     "output_type": "stream",
     "text": [
      "+-----------------+----------+\n|DEST_COUNTRY_NAME|sum(count)|\n+-----------------+----------+\n|    United States|        94|\n+-----------------+----------+\n\n"
     ]
    }
   ],
   "source": [
    "df = spark.read.format(\"csv\").option(\"header\",\"true\").option(\"inferSchema\",\"true\").load(\"dbfs:/FileStore/demo_folder/flight_data.csv\") \n",
    "\n",
    "\n",
    "df_repartition = df.repartition(3) #wide transformation\n",
    "\n",
    "us_df = df.filter(df.DEST_COUNTRY_NAME == 'United States') #Narrow\n",
    "\n",
    "\n",
    "us_india_df = us_df.filter((df.ORIGIN_COUNTRY_NAME == 'India') | (df.ORIGIN_COUNTRY_NAME == 'Singapore')) #transformation\n",
    "\n",
    "\n",
    "total_flight_df = us_india_df.groupBy('DEST_COUNTRY_NAME').sum('count') # wide transformation\n",
    "\n",
    "total_flight_df.show() #action"
   ]
  },
  {
   "cell_type": "code",
   "execution_count": 0,
   "metadata": {
    "application/vnd.databricks.v1+cell": {
     "cellMetadata": {},
     "inputWidgets": {},
     "nuid": "89604eed-0e80-4b7d-a5f3-54ad573f10ba",
     "showTitle": false,
     "title": ""
    }
   },
   "outputs": [],
   "source": []
  }
 ],
 "metadata": {
  "application/vnd.databricks.v1+notebook": {
   "dashboards": [],
   "environmentMetadata": null,
   "language": "python",
   "notebookMetadata": {
    "pythonIndentUnit": 4
   },
   "notebookName": "flightdemo.py",
   "widgets": {}
  }
 },
 "nbformat": 4,
 "nbformat_minor": 0
}
