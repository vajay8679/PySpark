{
 "cells": [
  {
   "cell_type": "code",
   "execution_count": 1,
   "id": "b9d98136",
   "metadata": {},
   "outputs": [],
   "source": [
    "from pyspark.sql import *\n",
    "from pyspark.sql.functions import *"
   ]
  },
  {
   "cell_type": "code",
   "execution_count": 2,
   "id": "e6cacb8c",
   "metadata": {},
   "outputs": [],
   "source": [
    "spark = SparkSession.builder.master('local[1]')\\\n",
    "        .appName('Testing')\\\n",
    "        .config('spark.sql.shuffle.partitions',3)\\\n",
    "        .config('spark.sql.adaptive.enabled','false')\\\n",
    "        .getOrCreate()"
   ]
  },
  {
   "cell_type": "code",
   "execution_count": 3,
   "id": "51e9a9d4",
   "metadata": {},
   "outputs": [
    {
     "name": "stdout",
     "output_type": "stream",
     "text": [
      "<pyspark.sql.session.SparkSession object at 0x7f6fc5f20610>\n"
     ]
    }
   ],
   "source": [
    "print(spark)"
   ]
  },
  {
   "cell_type": "code",
   "execution_count": 4,
   "id": "026e7903",
   "metadata": {},
   "outputs": [],
   "source": [
    "id_values = [1] * 1000000 + [2] * 5 + [3] * 5\n",
    "table1 = spark.createDataFrame(id_values,\"int\").toDF(\"id\")"
   ]
  },
  {
   "cell_type": "code",
   "execution_count": 5,
   "id": "b048a50b",
   "metadata": {},
   "outputs": [
    {
     "name": "stdout",
     "output_type": "stream",
     "text": [
      "+---+\n",
      "| id|\n",
      "+---+\n",
      "|  1|\n",
      "|  1|\n",
      "|  1|\n",
      "|  1|\n",
      "|  1|\n",
      "|  1|\n",
      "|  1|\n",
      "|  1|\n",
      "|  1|\n",
      "|  1|\n",
      "|  1|\n",
      "|  1|\n",
      "|  1|\n",
      "|  1|\n",
      "|  1|\n",
      "|  1|\n",
      "|  1|\n",
      "|  1|\n",
      "|  1|\n",
      "|  1|\n",
      "+---+\n",
      "only showing top 20 rows\n",
      "\n",
      "None\n"
     ]
    }
   ],
   "source": [
    "id_values = [1] * 100 + [2] * 5 + [3] * 2\n",
    "table2 = spark.createDataFrame(id_values,\"int\").toDF(\"id\")\n",
    "print(table2.show())\n",
    "# print(id_values)"
   ]
  },
  {
   "cell_type": "code",
   "execution_count": 16,
   "id": "770f2154",
   "metadata": {},
   "outputs": [
    {
     "name": "stdout",
     "output_type": "stream",
     "text": [
      "100000035\n"
     ]
    }
   ],
   "source": [
    "data = table1.join(table2,'id','inner')\n",
    "print(data.count())"
   ]
  },
  {
   "cell_type": "code",
   "execution_count": 6,
   "id": "26c6f795",
   "metadata": {},
   "outputs": [
    {
     "name": "stdout",
     "output_type": "stream",
     "text": [
      "+---+----------+\n",
      "| id|random_num|\n",
      "+---+----------+\n",
      "|  1|         5|\n",
      "|  1|         8|\n",
      "|  1|        10|\n",
      "|  1|         7|\n",
      "|  1|         8|\n",
      "|  1|        10|\n",
      "|  1|         4|\n",
      "|  1|         1|\n",
      "|  1|         4|\n",
      "|  1|         5|\n",
      "|  1|         5|\n",
      "|  1|         8|\n",
      "|  1|         5|\n",
      "|  1|         9|\n",
      "|  1|         7|\n",
      "|  1|         1|\n",
      "|  1|         6|\n",
      "|  1|        10|\n",
      "|  1|         5|\n",
      "|  1|         9|\n",
      "+---+----------+\n",
      "only showing top 20 rows\n",
      "\n",
      "None\n"
     ]
    }
   ],
   "source": [
    "df_with_random = table1.withColumn(\"random_num\",(rand() * 10 + 1).cast(\"int\"))\n",
    "print(df_with_random.show())"
   ]
  },
  {
   "cell_type": "code",
   "execution_count": 14,
   "id": "f5d090af",
   "metadata": {},
   "outputs": [
    {
     "name": "stdout",
     "output_type": "stream",
     "text": [
      "+---+----------+----------+\n",
      "| id|random_num|salted_key|\n",
      "+---+----------+----------+\n",
      "|  1|         5|       1_5|\n",
      "|  1|         8|       1_8|\n",
      "|  1|        10|      1_10|\n",
      "|  1|         7|       1_7|\n",
      "|  1|         8|       1_8|\n",
      "|  1|        10|      1_10|\n",
      "|  1|         4|       1_4|\n",
      "|  1|         1|       1_1|\n",
      "|  1|         4|       1_4|\n",
      "|  1|         5|       1_5|\n",
      "|  1|         5|       1_5|\n",
      "|  1|         8|       1_8|\n",
      "|  1|         5|       1_5|\n",
      "|  1|         9|       1_9|\n",
      "|  1|         7|       1_7|\n",
      "|  1|         1|       1_1|\n",
      "|  1|         6|       1_6|\n",
      "|  1|        10|      1_10|\n",
      "|  1|         5|       1_5|\n",
      "|  1|         9|       1_9|\n",
      "+---+----------+----------+\n",
      "only showing top 20 rows\n",
      "\n",
      "None\n"
     ]
    }
   ],
   "source": [
    "table1 = df_with_random.withColumn(\"salted_key\",concat(expr(\"id\"),lit('_'),expr(\"random_num\")))\n",
    "print(table1.show())"
   ]
  },
  {
   "cell_type": "code",
   "execution_count": 10,
   "id": "fb15ffbd",
   "metadata": {},
   "outputs": [
    {
     "name": "stdout",
     "output_type": "stream",
     "text": [
      "+---+-------------------------------+\n",
      "|id |sequence                       |\n",
      "+---+-------------------------------+\n",
      "|1  |[1, 2, 3, 4, 5, 6, 7, 8, 9, 10]|\n",
      "|1  |[1, 2, 3, 4, 5, 6, 7, 8, 9, 10]|\n",
      "|1  |[1, 2, 3, 4, 5, 6, 7, 8, 9, 10]|\n",
      "|1  |[1, 2, 3, 4, 5, 6, 7, 8, 9, 10]|\n",
      "|1  |[1, 2, 3, 4, 5, 6, 7, 8, 9, 10]|\n",
      "|1  |[1, 2, 3, 4, 5, 6, 7, 8, 9, 10]|\n",
      "|1  |[1, 2, 3, 4, 5, 6, 7, 8, 9, 10]|\n",
      "|1  |[1, 2, 3, 4, 5, 6, 7, 8, 9, 10]|\n",
      "|1  |[1, 2, 3, 4, 5, 6, 7, 8, 9, 10]|\n",
      "|1  |[1, 2, 3, 4, 5, 6, 7, 8, 9, 10]|\n",
      "|1  |[1, 2, 3, 4, 5, 6, 7, 8, 9, 10]|\n",
      "|1  |[1, 2, 3, 4, 5, 6, 7, 8, 9, 10]|\n",
      "|1  |[1, 2, 3, 4, 5, 6, 7, 8, 9, 10]|\n",
      "|1  |[1, 2, 3, 4, 5, 6, 7, 8, 9, 10]|\n",
      "|1  |[1, 2, 3, 4, 5, 6, 7, 8, 9, 10]|\n",
      "|1  |[1, 2, 3, 4, 5, 6, 7, 8, 9, 10]|\n",
      "|1  |[1, 2, 3, 4, 5, 6, 7, 8, 9, 10]|\n",
      "|1  |[1, 2, 3, 4, 5, 6, 7, 8, 9, 10]|\n",
      "|1  |[1, 2, 3, 4, 5, 6, 7, 8, 9, 10]|\n",
      "|1  |[1, 2, 3, 4, 5, 6, 7, 8, 9, 10]|\n",
      "+---+-------------------------------+\n",
      "only showing top 20 rows\n",
      "\n"
     ]
    }
   ],
   "source": [
    "table2_replicated = table2.withColumn(\"sequence\", array([lit(i) for i in range(1,11)]))\n",
    "table2_replicated.show(20,truncate=False)"
   ]
  },
  {
   "cell_type": "code",
   "execution_count": 11,
   "id": "89365d8a",
   "metadata": {},
   "outputs": [],
   "source": [
    "table2 = table2_replicated.withColumn(\"exploded_col\",explode(col(\"sequence\")))\\\n",
    "            .withColumn(\"salted_key\",concat(expr(\"id\"),lit(\"_\"),(expr(\"exploded_col\"))))\\\n",
    "            .drop(\"exploded_col\",\"sequence\")"
   ]
  },
  {
   "cell_type": "code",
   "execution_count": 12,
   "id": "fc54a4f6",
   "metadata": {},
   "outputs": [
    {
     "name": "stdout",
     "output_type": "stream",
     "text": [
      "100000035\n"
     ]
    }
   ],
   "source": [
    "data = table1.join(table2,'salted_key','inner')\n",
    "print(data.count())"
   ]
  },
  {
   "cell_type": "code",
   "execution_count": null,
   "id": "3065bcb6",
   "metadata": {},
   "outputs": [],
   "source": [
    "input(\"Enter somethign here\")"
   ]
  }
 ],
 "metadata": {
  "kernelspec": {
   "display_name": "Python 3",
   "language": "python",
   "name": "python3"
  },
  "language_info": {
   "codemirror_mode": {
    "name": "ipython",
    "version": 3
   },
   "file_extension": ".py",
   "mimetype": "text/x-python",
   "name": "python",
   "nbconvert_exporter": "python",
   "pygments_lexer": "ipython3",
   "version": "3.8.10"
  }
 },
 "nbformat": 4,
 "nbformat_minor": 5
}
